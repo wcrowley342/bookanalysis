{
  "nbformat": 4,
  "nbformat_minor": 0,
  "metadata": {
    "colab": {
      "provenance": [],
      "toc_visible": true,
      "authorship_tag": "ABX9TyOvFsa1t88/Z/6yu+WaYovw",
      "include_colab_link": true
    },
    "kernelspec": {
      "name": "python3",
      "display_name": "Python 3"
    },
    "language_info": {
      "name": "python"
    }
  },
  "cells": [
    {
      "cell_type": "markdown",
      "metadata": {
        "id": "view-in-github",
        "colab_type": "text"
      },
      "source": [
        "<a href=\"https://colab.research.google.com/github/wcrowley342/bookanalysis/blob/main/Book_Analysis.ipynb\" target=\"_parent\"><img src=\"https://colab.research.google.com/assets/colab-badge.svg\" alt=\"Open In Colab\"/></a>"
      ]
    },
    {
      "cell_type": "markdown",
      "source": [
        "# Intro & Read in Data"
      ],
      "metadata": {
        "id": "YqQ5q3gzkQJY"
      }
    },
    {
      "cell_type": "code",
      "execution_count": 3,
      "metadata": {
        "id": "g0idBUWdiGTD"
      },
      "outputs": [],
      "source": [
        "\n",
        "# Some basic, common libraries used:\n",
        "import pandas as pd\n",
        "import numpy as np\n",
        "import matplotlib.pyplot as plt\n",
        "from matplotlib import pyplot as plt\n",
        "from matplotlib import dates as mpl_dates\n",
        "from matplotlib import rcParams\n",
        "import seaborn as sns\n",
        "import plotly as py\n",
        "import plotly.express as px\n",
        "\n",
        "#Read in data into \"titles\" data frame\n",
        "\n",
        "titles_df = pd.read_csv('https://raw.githubusercontent.com/wcrowley342/bookanalysis/main/titles.csv')"
      ]
    },
    {
      "cell_type": "code",
      "source": [
        "titles_df.head()"
      ],
      "metadata": {
        "colab": {
          "base_uri": "https://localhost:8080/",
          "height": 206
        },
        "id": "k6pR7ek1j9TR",
        "outputId": "ec67b8ab-d795-4c87-bc71-79a55a80a765"
      },
      "execution_count": 4,
      "outputs": [
        {
          "output_type": "execute_result",
          "data": {
            "text/plain": [
              "     id                 title                author  year  total_weeks  \\\n",
              "0     0   \"H\" IS FOR HOMICIDE           Sue Grafton  1991           15   \n",
              "1     1   \"I\" IS FOR INNOCENT           Sue Grafton  1992           11   \n",
              "2    10  ''G'' IS FOR GUMSHOE           Sue Grafton  1990            6   \n",
              "3   100       A DOG'S JOURNEY      W. Bruce Cameron  2012            1   \n",
              "4  1000        CHANGING FACES  Kimberla Lawson Roby  2006            1   \n",
              "\n",
              "   first_week  debut_rank  best_rank  \n",
              "0  1991-05-05          15          2  \n",
              "1  1992-04-26           2          2  \n",
              "2  1990-05-06           8          8  \n",
              "3  2012-05-27          14         14  \n",
              "4  2006-02-19          14         14  "
            ],
            "text/html": [
              "\n",
              "  <div id=\"df-73df91dc-dde2-48d2-9ff8-e7ea989c8f2f\">\n",
              "    <div class=\"colab-df-container\">\n",
              "      <div>\n",
              "<style scoped>\n",
              "    .dataframe tbody tr th:only-of-type {\n",
              "        vertical-align: middle;\n",
              "    }\n",
              "\n",
              "    .dataframe tbody tr th {\n",
              "        vertical-align: top;\n",
              "    }\n",
              "\n",
              "    .dataframe thead th {\n",
              "        text-align: right;\n",
              "    }\n",
              "</style>\n",
              "<table border=\"1\" class=\"dataframe\">\n",
              "  <thead>\n",
              "    <tr style=\"text-align: right;\">\n",
              "      <th></th>\n",
              "      <th>id</th>\n",
              "      <th>title</th>\n",
              "      <th>author</th>\n",
              "      <th>year</th>\n",
              "      <th>total_weeks</th>\n",
              "      <th>first_week</th>\n",
              "      <th>debut_rank</th>\n",
              "      <th>best_rank</th>\n",
              "    </tr>\n",
              "  </thead>\n",
              "  <tbody>\n",
              "    <tr>\n",
              "      <th>0</th>\n",
              "      <td>0</td>\n",
              "      <td>\"H\" IS FOR HOMICIDE</td>\n",
              "      <td>Sue Grafton</td>\n",
              "      <td>1991</td>\n",
              "      <td>15</td>\n",
              "      <td>1991-05-05</td>\n",
              "      <td>15</td>\n",
              "      <td>2</td>\n",
              "    </tr>\n",
              "    <tr>\n",
              "      <th>1</th>\n",
              "      <td>1</td>\n",
              "      <td>\"I\" IS FOR INNOCENT</td>\n",
              "      <td>Sue Grafton</td>\n",
              "      <td>1992</td>\n",
              "      <td>11</td>\n",
              "      <td>1992-04-26</td>\n",
              "      <td>2</td>\n",
              "      <td>2</td>\n",
              "    </tr>\n",
              "    <tr>\n",
              "      <th>2</th>\n",
              "      <td>10</td>\n",
              "      <td>''G'' IS FOR GUMSHOE</td>\n",
              "      <td>Sue Grafton</td>\n",
              "      <td>1990</td>\n",
              "      <td>6</td>\n",
              "      <td>1990-05-06</td>\n",
              "      <td>8</td>\n",
              "      <td>8</td>\n",
              "    </tr>\n",
              "    <tr>\n",
              "      <th>3</th>\n",
              "      <td>100</td>\n",
              "      <td>A DOG'S JOURNEY</td>\n",
              "      <td>W. Bruce Cameron</td>\n",
              "      <td>2012</td>\n",
              "      <td>1</td>\n",
              "      <td>2012-05-27</td>\n",
              "      <td>14</td>\n",
              "      <td>14</td>\n",
              "    </tr>\n",
              "    <tr>\n",
              "      <th>4</th>\n",
              "      <td>1000</td>\n",
              "      <td>CHANGING FACES</td>\n",
              "      <td>Kimberla Lawson Roby</td>\n",
              "      <td>2006</td>\n",
              "      <td>1</td>\n",
              "      <td>2006-02-19</td>\n",
              "      <td>14</td>\n",
              "      <td>14</td>\n",
              "    </tr>\n",
              "  </tbody>\n",
              "</table>\n",
              "</div>\n",
              "      <button class=\"colab-df-convert\" onclick=\"convertToInteractive('df-73df91dc-dde2-48d2-9ff8-e7ea989c8f2f')\"\n",
              "              title=\"Convert this dataframe to an interactive table.\"\n",
              "              style=\"display:none;\">\n",
              "        \n",
              "  <svg xmlns=\"http://www.w3.org/2000/svg\" height=\"24px\"viewBox=\"0 0 24 24\"\n",
              "       width=\"24px\">\n",
              "    <path d=\"M0 0h24v24H0V0z\" fill=\"none\"/>\n",
              "    <path d=\"M18.56 5.44l.94 2.06.94-2.06 2.06-.94-2.06-.94-.94-2.06-.94 2.06-2.06.94zm-11 1L8.5 8.5l.94-2.06 2.06-.94-2.06-.94L8.5 2.5l-.94 2.06-2.06.94zm10 10l.94 2.06.94-2.06 2.06-.94-2.06-.94-.94-2.06-.94 2.06-2.06.94z\"/><path d=\"M17.41 7.96l-1.37-1.37c-.4-.4-.92-.59-1.43-.59-.52 0-1.04.2-1.43.59L10.3 9.45l-7.72 7.72c-.78.78-.78 2.05 0 2.83L4 21.41c.39.39.9.59 1.41.59.51 0 1.02-.2 1.41-.59l7.78-7.78 2.81-2.81c.8-.78.8-2.07 0-2.86zM5.41 20L4 18.59l7.72-7.72 1.47 1.35L5.41 20z\"/>\n",
              "  </svg>\n",
              "      </button>\n",
              "      \n",
              "  <style>\n",
              "    .colab-df-container {\n",
              "      display:flex;\n",
              "      flex-wrap:wrap;\n",
              "      gap: 12px;\n",
              "    }\n",
              "\n",
              "    .colab-df-convert {\n",
              "      background-color: #E8F0FE;\n",
              "      border: none;\n",
              "      border-radius: 50%;\n",
              "      cursor: pointer;\n",
              "      display: none;\n",
              "      fill: #1967D2;\n",
              "      height: 32px;\n",
              "      padding: 0 0 0 0;\n",
              "      width: 32px;\n",
              "    }\n",
              "\n",
              "    .colab-df-convert:hover {\n",
              "      background-color: #E2EBFA;\n",
              "      box-shadow: 0px 1px 2px rgba(60, 64, 67, 0.3), 0px 1px 3px 1px rgba(60, 64, 67, 0.15);\n",
              "      fill: #174EA6;\n",
              "    }\n",
              "\n",
              "    [theme=dark] .colab-df-convert {\n",
              "      background-color: #3B4455;\n",
              "      fill: #D2E3FC;\n",
              "    }\n",
              "\n",
              "    [theme=dark] .colab-df-convert:hover {\n",
              "      background-color: #434B5C;\n",
              "      box-shadow: 0px 1px 3px 1px rgba(0, 0, 0, 0.15);\n",
              "      filter: drop-shadow(0px 1px 2px rgba(0, 0, 0, 0.3));\n",
              "      fill: #FFFFFF;\n",
              "    }\n",
              "  </style>\n",
              "\n",
              "      <script>\n",
              "        const buttonEl =\n",
              "          document.querySelector('#df-73df91dc-dde2-48d2-9ff8-e7ea989c8f2f button.colab-df-convert');\n",
              "        buttonEl.style.display =\n",
              "          google.colab.kernel.accessAllowed ? 'block' : 'none';\n",
              "\n",
              "        async function convertToInteractive(key) {\n",
              "          const element = document.querySelector('#df-73df91dc-dde2-48d2-9ff8-e7ea989c8f2f');\n",
              "          const dataTable =\n",
              "            await google.colab.kernel.invokeFunction('convertToInteractive',\n",
              "                                                     [key], {});\n",
              "          if (!dataTable) return;\n",
              "\n",
              "          const docLinkHtml = 'Like what you see? Visit the ' +\n",
              "            '<a target=\"_blank\" href=https://colab.research.google.com/notebooks/data_table.ipynb>data table notebook</a>'\n",
              "            + ' to learn more about interactive tables.';\n",
              "          element.innerHTML = '';\n",
              "          dataTable['output_type'] = 'display_data';\n",
              "          await google.colab.output.renderOutput(dataTable, element);\n",
              "          const docLink = document.createElement('div');\n",
              "          docLink.innerHTML = docLinkHtml;\n",
              "          element.appendChild(docLink);\n",
              "        }\n",
              "      </script>\n",
              "    </div>\n",
              "  </div>\n",
              "  "
            ]
          },
          "metadata": {},
          "execution_count": 4
        }
      ]
    },
    {
      "cell_type": "code",
      "source": [
        "titles_df.info()"
      ],
      "metadata": {
        "colab": {
          "base_uri": "https://localhost:8080/"
        },
        "id": "H2nyRQlKkCdn",
        "outputId": "1f7e2dfe-e1b8-4e8e-931b-fb7007a2ae0f"
      },
      "execution_count": 6,
      "outputs": [
        {
          "output_type": "stream",
          "name": "stdout",
          "text": [
            "<class 'pandas.core.frame.DataFrame'>\n",
            "RangeIndex: 7431 entries, 0 to 7430\n",
            "Data columns (total 8 columns):\n",
            " #   Column       Non-Null Count  Dtype \n",
            "---  ------       --------------  ----- \n",
            " 0    id          7431 non-null   int64 \n",
            " 1   title        7431 non-null   object\n",
            " 2   author       7427 non-null   object\n",
            " 3   year         7431 non-null   int64 \n",
            " 4   total_weeks  7431 non-null   int64 \n",
            " 5   first_week   7431 non-null   object\n",
            " 6   debut_rank   7431 non-null   int64 \n",
            " 7   best_rank    7431 non-null   int64 \n",
            "dtypes: int64(5), object(3)\n",
            "memory usage: 464.6+ KB\n"
          ]
        }
      ]
    },
    {
      "cell_type": "markdown",
      "source": [
        "# CLEAN UP DATA"
      ],
      "metadata": {
        "id": "GPXynMZ9kPRz"
      }
    },
    {
      "cell_type": "markdown",
      "source": [
        "# LONGEST TENURED AUTHOR"
      ],
      "metadata": {
        "id": "0PeID6NckXd8"
      }
    },
    {
      "cell_type": "markdown",
      "source": [
        "# AUTHOR WITH MOST WEEKS"
      ],
      "metadata": {
        "id": "aFoffry3kak-"
      }
    },
    {
      "cell_type": "markdown",
      "source": [
        "# AUTHOR WITH MOST TITLES/MOST PROLIFIC"
      ],
      "metadata": {
        "id": "8bEi6LvMkde4"
      }
    }
  ]
}