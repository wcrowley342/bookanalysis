{
  "nbformat": 4,
  "nbformat_minor": 0,
  "metadata": {
    "colab": {
      "provenance": [],
      "toc_visible": true,
      "authorship_tag": "ABX9TyMDNrVeZi3CvRdzOtSFLdoy",
      "include_colab_link": true
    },
    "kernelspec": {
      "name": "python3",
      "display_name": "Python 3"
    },
    "language_info": {
      "name": "python"
    }
  },
  "cells": [
    {
      "cell_type": "markdown",
      "metadata": {
        "id": "view-in-github",
        "colab_type": "text"
      },
      "source": [
        "<a href=\"https://colab.research.google.com/github/wcrowley342/bookanalysis/blob/main/Book_Analysis.ipynb\" target=\"_parent\"><img src=\"https://colab.research.google.com/assets/colab-badge.svg\" alt=\"Open In Colab\"/></a>"
      ]
    },
    {
      "cell_type": "markdown",
      "source": [
        "I'd like to read more fiction; how can I use data to inform which author I should start reading/following? (the analysis mostly looks at author data, as opossed to individual book data...)"
      ],
      "metadata": {
        "id": "Gf7657oI33hZ"
      }
    },
    {
      "cell_type": "markdown",
      "source": [
        "# INTRO & READ IN DATA"
      ],
      "metadata": {
        "id": "YqQ5q3gzkQJY"
      }
    },
    {
      "cell_type": "code",
      "execution_count": 1,
      "metadata": {
        "id": "g0idBUWdiGTD"
      },
      "outputs": [],
      "source": [
        "# Some basic, common libraries used:\n",
        "import pandas as pd\n",
        "import numpy as np\n",
        "import matplotlib.pyplot as plt\n",
        "from matplotlib import pyplot as plt\n",
        "from matplotlib import dates as mpl_dates\n",
        "from matplotlib import rcParams\n",
        "import seaborn as sns\n",
        "import plotly as py\n",
        "import plotly.express as px\n",
        "\n",
        "#Read in data into \"titles\" data frame\n",
        "\n",
        "titles_df = pd.read_csv('https://raw.githubusercontent.com/wcrowley342/bookanalysis/main/titles.csv')"
      ]
    },
    {
      "cell_type": "markdown",
      "source": [
        "https://data.post45.org/new-york-times-hardcover-fiction-bestsellers-1931-2020-curatorial-statement/\n",
        "\n",
        "this dataset covers the full list since its inception in 1931, along with each reported work’s title, author(s), date of appearance, and rank.\n",
        "\n",
        "This dataset provides valuable metadata for researchers of 20th century American\n",
        "literature working in fields such as cultural analytics, book and publishing history, and the\n",
        "sociology of literature\n",
        "\n",
        "nyt_titles.tsv\n",
        "\n",
        "*   id – an arbitrary unique id for the novel\n",
        "*   title – the title of the novel, as reported by the New York Times\n",
        "*   author – the author of the novel, as reported by the New York Times\n",
        "*   year – the first year that the novel appears on the bestseller list. \n",
        "*   total_weeks – the total number of weeks the title was on the list\n",
        "*   first_week – the first week that the novel appears on the bestseller list\n",
        "*   debut_rank – the book’s bestseller rank in the week of its first appearance\n",
        "*   best_rank – the highest rank achieved by the title while on the list\n"
      ],
      "metadata": {
        "id": "ViRbtXPrk0Pk"
      }
    },
    {
      "cell_type": "code",
      "source": [
        "titles_df.head()"
      ],
      "metadata": {
        "colab": {
          "base_uri": "https://localhost:8080/",
          "height": 206
        },
        "id": "k6pR7ek1j9TR",
        "outputId": "bdb8854d-a859-4e2f-f711-34cec194a3a9"
      },
      "execution_count": 2,
      "outputs": [
        {
          "output_type": "execute_result",
          "data": {
            "text/plain": [
              "     id                 title                author  year  total_weeks  \\\n",
              "0     0   \"H\" IS FOR HOMICIDE           Sue Grafton  1991           15   \n",
              "1     1   \"I\" IS FOR INNOCENT           Sue Grafton  1992           11   \n",
              "2    10  ''G'' IS FOR GUMSHOE           Sue Grafton  1990            6   \n",
              "3   100       A DOG'S JOURNEY      W. Bruce Cameron  2012            1   \n",
              "4  1000        CHANGING FACES  Kimberla Lawson Roby  2006            1   \n",
              "\n",
              "   first_week  debut_rank  best_rank  \n",
              "0  1991-05-05          15          2  \n",
              "1  1992-04-26           2          2  \n",
              "2  1990-05-06           8          8  \n",
              "3  2012-05-27          14         14  \n",
              "4  2006-02-19          14         14  "
            ],
            "text/html": [
              "\n",
              "  <div id=\"df-80847154-fada-43ad-9446-93ae5076df2e\">\n",
              "    <div class=\"colab-df-container\">\n",
              "      <div>\n",
              "<style scoped>\n",
              "    .dataframe tbody tr th:only-of-type {\n",
              "        vertical-align: middle;\n",
              "    }\n",
              "\n",
              "    .dataframe tbody tr th {\n",
              "        vertical-align: top;\n",
              "    }\n",
              "\n",
              "    .dataframe thead th {\n",
              "        text-align: right;\n",
              "    }\n",
              "</style>\n",
              "<table border=\"1\" class=\"dataframe\">\n",
              "  <thead>\n",
              "    <tr style=\"text-align: right;\">\n",
              "      <th></th>\n",
              "      <th>id</th>\n",
              "      <th>title</th>\n",
              "      <th>author</th>\n",
              "      <th>year</th>\n",
              "      <th>total_weeks</th>\n",
              "      <th>first_week</th>\n",
              "      <th>debut_rank</th>\n",
              "      <th>best_rank</th>\n",
              "    </tr>\n",
              "  </thead>\n",
              "  <tbody>\n",
              "    <tr>\n",
              "      <th>0</th>\n",
              "      <td>0</td>\n",
              "      <td>\"H\" IS FOR HOMICIDE</td>\n",
              "      <td>Sue Grafton</td>\n",
              "      <td>1991</td>\n",
              "      <td>15</td>\n",
              "      <td>1991-05-05</td>\n",
              "      <td>15</td>\n",
              "      <td>2</td>\n",
              "    </tr>\n",
              "    <tr>\n",
              "      <th>1</th>\n",
              "      <td>1</td>\n",
              "      <td>\"I\" IS FOR INNOCENT</td>\n",
              "      <td>Sue Grafton</td>\n",
              "      <td>1992</td>\n",
              "      <td>11</td>\n",
              "      <td>1992-04-26</td>\n",
              "      <td>2</td>\n",
              "      <td>2</td>\n",
              "    </tr>\n",
              "    <tr>\n",
              "      <th>2</th>\n",
              "      <td>10</td>\n",
              "      <td>''G'' IS FOR GUMSHOE</td>\n",
              "      <td>Sue Grafton</td>\n",
              "      <td>1990</td>\n",
              "      <td>6</td>\n",
              "      <td>1990-05-06</td>\n",
              "      <td>8</td>\n",
              "      <td>8</td>\n",
              "    </tr>\n",
              "    <tr>\n",
              "      <th>3</th>\n",
              "      <td>100</td>\n",
              "      <td>A DOG'S JOURNEY</td>\n",
              "      <td>W. Bruce Cameron</td>\n",
              "      <td>2012</td>\n",
              "      <td>1</td>\n",
              "      <td>2012-05-27</td>\n",
              "      <td>14</td>\n",
              "      <td>14</td>\n",
              "    </tr>\n",
              "    <tr>\n",
              "      <th>4</th>\n",
              "      <td>1000</td>\n",
              "      <td>CHANGING FACES</td>\n",
              "      <td>Kimberla Lawson Roby</td>\n",
              "      <td>2006</td>\n",
              "      <td>1</td>\n",
              "      <td>2006-02-19</td>\n",
              "      <td>14</td>\n",
              "      <td>14</td>\n",
              "    </tr>\n",
              "  </tbody>\n",
              "</table>\n",
              "</div>\n",
              "      <button class=\"colab-df-convert\" onclick=\"convertToInteractive('df-80847154-fada-43ad-9446-93ae5076df2e')\"\n",
              "              title=\"Convert this dataframe to an interactive table.\"\n",
              "              style=\"display:none;\">\n",
              "        \n",
              "  <svg xmlns=\"http://www.w3.org/2000/svg\" height=\"24px\"viewBox=\"0 0 24 24\"\n",
              "       width=\"24px\">\n",
              "    <path d=\"M0 0h24v24H0V0z\" fill=\"none\"/>\n",
              "    <path d=\"M18.56 5.44l.94 2.06.94-2.06 2.06-.94-2.06-.94-.94-2.06-.94 2.06-2.06.94zm-11 1L8.5 8.5l.94-2.06 2.06-.94-2.06-.94L8.5 2.5l-.94 2.06-2.06.94zm10 10l.94 2.06.94-2.06 2.06-.94-2.06-.94-.94-2.06-.94 2.06-2.06.94z\"/><path d=\"M17.41 7.96l-1.37-1.37c-.4-.4-.92-.59-1.43-.59-.52 0-1.04.2-1.43.59L10.3 9.45l-7.72 7.72c-.78.78-.78 2.05 0 2.83L4 21.41c.39.39.9.59 1.41.59.51 0 1.02-.2 1.41-.59l7.78-7.78 2.81-2.81c.8-.78.8-2.07 0-2.86zM5.41 20L4 18.59l7.72-7.72 1.47 1.35L5.41 20z\"/>\n",
              "  </svg>\n",
              "      </button>\n",
              "      \n",
              "  <style>\n",
              "    .colab-df-container {\n",
              "      display:flex;\n",
              "      flex-wrap:wrap;\n",
              "      gap: 12px;\n",
              "    }\n",
              "\n",
              "    .colab-df-convert {\n",
              "      background-color: #E8F0FE;\n",
              "      border: none;\n",
              "      border-radius: 50%;\n",
              "      cursor: pointer;\n",
              "      display: none;\n",
              "      fill: #1967D2;\n",
              "      height: 32px;\n",
              "      padding: 0 0 0 0;\n",
              "      width: 32px;\n",
              "    }\n",
              "\n",
              "    .colab-df-convert:hover {\n",
              "      background-color: #E2EBFA;\n",
              "      box-shadow: 0px 1px 2px rgba(60, 64, 67, 0.3), 0px 1px 3px 1px rgba(60, 64, 67, 0.15);\n",
              "      fill: #174EA6;\n",
              "    }\n",
              "\n",
              "    [theme=dark] .colab-df-convert {\n",
              "      background-color: #3B4455;\n",
              "      fill: #D2E3FC;\n",
              "    }\n",
              "\n",
              "    [theme=dark] .colab-df-convert:hover {\n",
              "      background-color: #434B5C;\n",
              "      box-shadow: 0px 1px 3px 1px rgba(0, 0, 0, 0.15);\n",
              "      filter: drop-shadow(0px 1px 2px rgba(0, 0, 0, 0.3));\n",
              "      fill: #FFFFFF;\n",
              "    }\n",
              "  </style>\n",
              "\n",
              "      <script>\n",
              "        const buttonEl =\n",
              "          document.querySelector('#df-80847154-fada-43ad-9446-93ae5076df2e button.colab-df-convert');\n",
              "        buttonEl.style.display =\n",
              "          google.colab.kernel.accessAllowed ? 'block' : 'none';\n",
              "\n",
              "        async function convertToInteractive(key) {\n",
              "          const element = document.querySelector('#df-80847154-fada-43ad-9446-93ae5076df2e');\n",
              "          const dataTable =\n",
              "            await google.colab.kernel.invokeFunction('convertToInteractive',\n",
              "                                                     [key], {});\n",
              "          if (!dataTable) return;\n",
              "\n",
              "          const docLinkHtml = 'Like what you see? Visit the ' +\n",
              "            '<a target=\"_blank\" href=https://colab.research.google.com/notebooks/data_table.ipynb>data table notebook</a>'\n",
              "            + ' to learn more about interactive tables.';\n",
              "          element.innerHTML = '';\n",
              "          dataTable['output_type'] = 'display_data';\n",
              "          await google.colab.output.renderOutput(dataTable, element);\n",
              "          const docLink = document.createElement('div');\n",
              "          docLink.innerHTML = docLinkHtml;\n",
              "          element.appendChild(docLink);\n",
              "        }\n",
              "      </script>\n",
              "    </div>\n",
              "  </div>\n",
              "  "
            ]
          },
          "metadata": {},
          "execution_count": 2
        }
      ]
    },
    {
      "cell_type": "code",
      "source": [
        "titles_df.info()"
      ],
      "metadata": {
        "colab": {
          "base_uri": "https://localhost:8080/"
        },
        "id": "H2nyRQlKkCdn",
        "outputId": "19640ffe-e96b-449b-843c-7773e4cc0ade"
      },
      "execution_count": 3,
      "outputs": [
        {
          "output_type": "stream",
          "name": "stdout",
          "text": [
            "<class 'pandas.core.frame.DataFrame'>\n",
            "RangeIndex: 7431 entries, 0 to 7430\n",
            "Data columns (total 8 columns):\n",
            " #   Column       Non-Null Count  Dtype \n",
            "---  ------       --------------  ----- \n",
            " 0    id          7431 non-null   int64 \n",
            " 1   title        7431 non-null   object\n",
            " 2   author       7427 non-null   object\n",
            " 3   year         7431 non-null   int64 \n",
            " 4   total_weeks  7431 non-null   int64 \n",
            " 5   first_week   7431 non-null   object\n",
            " 6   debut_rank   7431 non-null   int64 \n",
            " 7   best_rank    7431 non-null   int64 \n",
            "dtypes: int64(5), object(3)\n",
            "memory usage: 464.6+ KB\n"
          ]
        }
      ]
    },
    {
      "cell_type": "code",
      "source": [
        "titles_df.describe()"
      ],
      "metadata": {
        "colab": {
          "base_uri": "https://localhost:8080/",
          "height": 300
        },
        "id": "oDAgxF8I5EEK",
        "outputId": "edb47d00-1f52-40a0-c946-0a4b830e5b68"
      },
      "execution_count": 4,
      "outputs": [
        {
          "output_type": "execute_result",
          "data": {
            "text/plain": [
              "                id         year  total_weeks   debut_rank    best_rank\n",
              "count  7431.000000  7431.000000  7431.000000  7431.000000  7431.000000\n",
              "mean   3715.000000  1989.605168     8.126228     8.625353     6.914278\n",
              "std    2145.289258    26.234540    11.208171     4.758091     4.567460\n",
              "min       0.000000  1931.000000     1.000000     1.000000     1.000000\n",
              "25%    1857.500000  1968.000000     2.000000     4.000000     3.000000\n",
              "50%    3715.000000  2000.000000     4.000000     9.000000     6.000000\n",
              "75%    5572.500000  2011.000000    10.000000    13.000000    10.000000\n",
              "max    7430.000000  2020.000000   178.000000    17.000000    17.000000"
            ],
            "text/html": [
              "\n",
              "  <div id=\"df-195bbbe5-55f6-47e4-a0b3-9150a44f6c0e\">\n",
              "    <div class=\"colab-df-container\">\n",
              "      <div>\n",
              "<style scoped>\n",
              "    .dataframe tbody tr th:only-of-type {\n",
              "        vertical-align: middle;\n",
              "    }\n",
              "\n",
              "    .dataframe tbody tr th {\n",
              "        vertical-align: top;\n",
              "    }\n",
              "\n",
              "    .dataframe thead th {\n",
              "        text-align: right;\n",
              "    }\n",
              "</style>\n",
              "<table border=\"1\" class=\"dataframe\">\n",
              "  <thead>\n",
              "    <tr style=\"text-align: right;\">\n",
              "      <th></th>\n",
              "      <th>id</th>\n",
              "      <th>year</th>\n",
              "      <th>total_weeks</th>\n",
              "      <th>debut_rank</th>\n",
              "      <th>best_rank</th>\n",
              "    </tr>\n",
              "  </thead>\n",
              "  <tbody>\n",
              "    <tr>\n",
              "      <th>count</th>\n",
              "      <td>7431.000000</td>\n",
              "      <td>7431.000000</td>\n",
              "      <td>7431.000000</td>\n",
              "      <td>7431.000000</td>\n",
              "      <td>7431.000000</td>\n",
              "    </tr>\n",
              "    <tr>\n",
              "      <th>mean</th>\n",
              "      <td>3715.000000</td>\n",
              "      <td>1989.605168</td>\n",
              "      <td>8.126228</td>\n",
              "      <td>8.625353</td>\n",
              "      <td>6.914278</td>\n",
              "    </tr>\n",
              "    <tr>\n",
              "      <th>std</th>\n",
              "      <td>2145.289258</td>\n",
              "      <td>26.234540</td>\n",
              "      <td>11.208171</td>\n",
              "      <td>4.758091</td>\n",
              "      <td>4.567460</td>\n",
              "    </tr>\n",
              "    <tr>\n",
              "      <th>min</th>\n",
              "      <td>0.000000</td>\n",
              "      <td>1931.000000</td>\n",
              "      <td>1.000000</td>\n",
              "      <td>1.000000</td>\n",
              "      <td>1.000000</td>\n",
              "    </tr>\n",
              "    <tr>\n",
              "      <th>25%</th>\n",
              "      <td>1857.500000</td>\n",
              "      <td>1968.000000</td>\n",
              "      <td>2.000000</td>\n",
              "      <td>4.000000</td>\n",
              "      <td>3.000000</td>\n",
              "    </tr>\n",
              "    <tr>\n",
              "      <th>50%</th>\n",
              "      <td>3715.000000</td>\n",
              "      <td>2000.000000</td>\n",
              "      <td>4.000000</td>\n",
              "      <td>9.000000</td>\n",
              "      <td>6.000000</td>\n",
              "    </tr>\n",
              "    <tr>\n",
              "      <th>75%</th>\n",
              "      <td>5572.500000</td>\n",
              "      <td>2011.000000</td>\n",
              "      <td>10.000000</td>\n",
              "      <td>13.000000</td>\n",
              "      <td>10.000000</td>\n",
              "    </tr>\n",
              "    <tr>\n",
              "      <th>max</th>\n",
              "      <td>7430.000000</td>\n",
              "      <td>2020.000000</td>\n",
              "      <td>178.000000</td>\n",
              "      <td>17.000000</td>\n",
              "      <td>17.000000</td>\n",
              "    </tr>\n",
              "  </tbody>\n",
              "</table>\n",
              "</div>\n",
              "      <button class=\"colab-df-convert\" onclick=\"convertToInteractive('df-195bbbe5-55f6-47e4-a0b3-9150a44f6c0e')\"\n",
              "              title=\"Convert this dataframe to an interactive table.\"\n",
              "              style=\"display:none;\">\n",
              "        \n",
              "  <svg xmlns=\"http://www.w3.org/2000/svg\" height=\"24px\"viewBox=\"0 0 24 24\"\n",
              "       width=\"24px\">\n",
              "    <path d=\"M0 0h24v24H0V0z\" fill=\"none\"/>\n",
              "    <path d=\"M18.56 5.44l.94 2.06.94-2.06 2.06-.94-2.06-.94-.94-2.06-.94 2.06-2.06.94zm-11 1L8.5 8.5l.94-2.06 2.06-.94-2.06-.94L8.5 2.5l-.94 2.06-2.06.94zm10 10l.94 2.06.94-2.06 2.06-.94-2.06-.94-.94-2.06-.94 2.06-2.06.94z\"/><path d=\"M17.41 7.96l-1.37-1.37c-.4-.4-.92-.59-1.43-.59-.52 0-1.04.2-1.43.59L10.3 9.45l-7.72 7.72c-.78.78-.78 2.05 0 2.83L4 21.41c.39.39.9.59 1.41.59.51 0 1.02-.2 1.41-.59l7.78-7.78 2.81-2.81c.8-.78.8-2.07 0-2.86zM5.41 20L4 18.59l7.72-7.72 1.47 1.35L5.41 20z\"/>\n",
              "  </svg>\n",
              "      </button>\n",
              "      \n",
              "  <style>\n",
              "    .colab-df-container {\n",
              "      display:flex;\n",
              "      flex-wrap:wrap;\n",
              "      gap: 12px;\n",
              "    }\n",
              "\n",
              "    .colab-df-convert {\n",
              "      background-color: #E8F0FE;\n",
              "      border: none;\n",
              "      border-radius: 50%;\n",
              "      cursor: pointer;\n",
              "      display: none;\n",
              "      fill: #1967D2;\n",
              "      height: 32px;\n",
              "      padding: 0 0 0 0;\n",
              "      width: 32px;\n",
              "    }\n",
              "\n",
              "    .colab-df-convert:hover {\n",
              "      background-color: #E2EBFA;\n",
              "      box-shadow: 0px 1px 2px rgba(60, 64, 67, 0.3), 0px 1px 3px 1px rgba(60, 64, 67, 0.15);\n",
              "      fill: #174EA6;\n",
              "    }\n",
              "\n",
              "    [theme=dark] .colab-df-convert {\n",
              "      background-color: #3B4455;\n",
              "      fill: #D2E3FC;\n",
              "    }\n",
              "\n",
              "    [theme=dark] .colab-df-convert:hover {\n",
              "      background-color: #434B5C;\n",
              "      box-shadow: 0px 1px 3px 1px rgba(0, 0, 0, 0.15);\n",
              "      filter: drop-shadow(0px 1px 2px rgba(0, 0, 0, 0.3));\n",
              "      fill: #FFFFFF;\n",
              "    }\n",
              "  </style>\n",
              "\n",
              "      <script>\n",
              "        const buttonEl =\n",
              "          document.querySelector('#df-195bbbe5-55f6-47e4-a0b3-9150a44f6c0e button.colab-df-convert');\n",
              "        buttonEl.style.display =\n",
              "          google.colab.kernel.accessAllowed ? 'block' : 'none';\n",
              "\n",
              "        async function convertToInteractive(key) {\n",
              "          const element = document.querySelector('#df-195bbbe5-55f6-47e4-a0b3-9150a44f6c0e');\n",
              "          const dataTable =\n",
              "            await google.colab.kernel.invokeFunction('convertToInteractive',\n",
              "                                                     [key], {});\n",
              "          if (!dataTable) return;\n",
              "\n",
              "          const docLinkHtml = 'Like what you see? Visit the ' +\n",
              "            '<a target=\"_blank\" href=https://colab.research.google.com/notebooks/data_table.ipynb>data table notebook</a>'\n",
              "            + ' to learn more about interactive tables.';\n",
              "          element.innerHTML = '';\n",
              "          dataTable['output_type'] = 'display_data';\n",
              "          await google.colab.output.renderOutput(dataTable, element);\n",
              "          const docLink = document.createElement('div');\n",
              "          docLink.innerHTML = docLinkHtml;\n",
              "          element.appendChild(docLink);\n",
              "        }\n",
              "      </script>\n",
              "    </div>\n",
              "  </div>\n",
              "  "
            ]
          },
          "metadata": {},
          "execution_count": 4
        }
      ]
    },
    {
      "cell_type": "markdown",
      "source": [
        "Some observiations\n",
        "\n",
        "*   Time period is 1931-2020\n",
        "*   Avg duration of a book on list is 8 weeks, max is 178 ('oh the places you'll go)\n",
        "\n"
      ],
      "metadata": {
        "id": "iCL051xeMqvU"
      }
    },
    {
      "cell_type": "code",
      "source": [
        "longest_books=titles_df.sort_values('total_weeks', ascending=False)\n",
        "longest_books[[\"title\", \"author\", \"year\", \"total_weeks\"]].head(10)"
      ],
      "metadata": {
        "colab": {
          "base_uri": "https://localhost:8080/",
          "height": 363
        },
        "id": "qxSTs0jdM84j",
        "outputId": "8c67551d-e7f7-4257-e94e-8b4db4b2a6cc"
      },
      "execution_count": 5,
      "outputs": [
        {
          "output_type": "execute_result",
          "data": {
            "text/plain": [
              "                              title               author  year  total_weeks\n",
              "2606      OH, THE PLACES YOU'LL GO!            Dr. Seuss  1990          178\n",
              "4355              THE DA VINCI CODE            Dan Brown  2003          165\n",
              "4219         THE CELESTINE PROPHECY       James Redfield  1994          165\n",
              "4139  THE BRIDGES OF MADISON COUNTY  Robert James Waller  1992          164\n",
              "3124    ALL THE LIGHT WE CANNOT SEE        Anthony Doerr  2014          132\n",
              "4167               THE CAINE MUTINY          Herman Wouk  1951          123\n",
              "6934        WHERE THE CRAWDADS SING          Delia Owens  2018          114\n",
              "4990                    AUNTIE MAME       Patrick Dennis  1955          112\n",
              "5732                       THE ROBE     Lloyd C. Douglas  1942          111\n",
              "4870                       THE HELP     Kathryn Stockett  2009          108"
            ],
            "text/html": [
              "\n",
              "  <div id=\"df-50a9a5f4-d7c0-4158-8335-632a750c8aba\">\n",
              "    <div class=\"colab-df-container\">\n",
              "      <div>\n",
              "<style scoped>\n",
              "    .dataframe tbody tr th:only-of-type {\n",
              "        vertical-align: middle;\n",
              "    }\n",
              "\n",
              "    .dataframe tbody tr th {\n",
              "        vertical-align: top;\n",
              "    }\n",
              "\n",
              "    .dataframe thead th {\n",
              "        text-align: right;\n",
              "    }\n",
              "</style>\n",
              "<table border=\"1\" class=\"dataframe\">\n",
              "  <thead>\n",
              "    <tr style=\"text-align: right;\">\n",
              "      <th></th>\n",
              "      <th>title</th>\n",
              "      <th>author</th>\n",
              "      <th>year</th>\n",
              "      <th>total_weeks</th>\n",
              "    </tr>\n",
              "  </thead>\n",
              "  <tbody>\n",
              "    <tr>\n",
              "      <th>2606</th>\n",
              "      <td>OH, THE PLACES YOU'LL GO!</td>\n",
              "      <td>Dr. Seuss</td>\n",
              "      <td>1990</td>\n",
              "      <td>178</td>\n",
              "    </tr>\n",
              "    <tr>\n",
              "      <th>4355</th>\n",
              "      <td>THE DA VINCI CODE</td>\n",
              "      <td>Dan Brown</td>\n",
              "      <td>2003</td>\n",
              "      <td>165</td>\n",
              "    </tr>\n",
              "    <tr>\n",
              "      <th>4219</th>\n",
              "      <td>THE CELESTINE PROPHECY</td>\n",
              "      <td>James Redfield</td>\n",
              "      <td>1994</td>\n",
              "      <td>165</td>\n",
              "    </tr>\n",
              "    <tr>\n",
              "      <th>4139</th>\n",
              "      <td>THE BRIDGES OF MADISON COUNTY</td>\n",
              "      <td>Robert James Waller</td>\n",
              "      <td>1992</td>\n",
              "      <td>164</td>\n",
              "    </tr>\n",
              "    <tr>\n",
              "      <th>3124</th>\n",
              "      <td>ALL THE LIGHT WE CANNOT SEE</td>\n",
              "      <td>Anthony Doerr</td>\n",
              "      <td>2014</td>\n",
              "      <td>132</td>\n",
              "    </tr>\n",
              "    <tr>\n",
              "      <th>4167</th>\n",
              "      <td>THE CAINE MUTINY</td>\n",
              "      <td>Herman Wouk</td>\n",
              "      <td>1951</td>\n",
              "      <td>123</td>\n",
              "    </tr>\n",
              "    <tr>\n",
              "      <th>6934</th>\n",
              "      <td>WHERE THE CRAWDADS SING</td>\n",
              "      <td>Delia Owens</td>\n",
              "      <td>2018</td>\n",
              "      <td>114</td>\n",
              "    </tr>\n",
              "    <tr>\n",
              "      <th>4990</th>\n",
              "      <td>AUNTIE MAME</td>\n",
              "      <td>Patrick Dennis</td>\n",
              "      <td>1955</td>\n",
              "      <td>112</td>\n",
              "    </tr>\n",
              "    <tr>\n",
              "      <th>5732</th>\n",
              "      <td>THE ROBE</td>\n",
              "      <td>Lloyd C. Douglas</td>\n",
              "      <td>1942</td>\n",
              "      <td>111</td>\n",
              "    </tr>\n",
              "    <tr>\n",
              "      <th>4870</th>\n",
              "      <td>THE HELP</td>\n",
              "      <td>Kathryn Stockett</td>\n",
              "      <td>2009</td>\n",
              "      <td>108</td>\n",
              "    </tr>\n",
              "  </tbody>\n",
              "</table>\n",
              "</div>\n",
              "      <button class=\"colab-df-convert\" onclick=\"convertToInteractive('df-50a9a5f4-d7c0-4158-8335-632a750c8aba')\"\n",
              "              title=\"Convert this dataframe to an interactive table.\"\n",
              "              style=\"display:none;\">\n",
              "        \n",
              "  <svg xmlns=\"http://www.w3.org/2000/svg\" height=\"24px\"viewBox=\"0 0 24 24\"\n",
              "       width=\"24px\">\n",
              "    <path d=\"M0 0h24v24H0V0z\" fill=\"none\"/>\n",
              "    <path d=\"M18.56 5.44l.94 2.06.94-2.06 2.06-.94-2.06-.94-.94-2.06-.94 2.06-2.06.94zm-11 1L8.5 8.5l.94-2.06 2.06-.94-2.06-.94L8.5 2.5l-.94 2.06-2.06.94zm10 10l.94 2.06.94-2.06 2.06-.94-2.06-.94-.94-2.06-.94 2.06-2.06.94z\"/><path d=\"M17.41 7.96l-1.37-1.37c-.4-.4-.92-.59-1.43-.59-.52 0-1.04.2-1.43.59L10.3 9.45l-7.72 7.72c-.78.78-.78 2.05 0 2.83L4 21.41c.39.39.9.59 1.41.59.51 0 1.02-.2 1.41-.59l7.78-7.78 2.81-2.81c.8-.78.8-2.07 0-2.86zM5.41 20L4 18.59l7.72-7.72 1.47 1.35L5.41 20z\"/>\n",
              "  </svg>\n",
              "      </button>\n",
              "      \n",
              "  <style>\n",
              "    .colab-df-container {\n",
              "      display:flex;\n",
              "      flex-wrap:wrap;\n",
              "      gap: 12px;\n",
              "    }\n",
              "\n",
              "    .colab-df-convert {\n",
              "      background-color: #E8F0FE;\n",
              "      border: none;\n",
              "      border-radius: 50%;\n",
              "      cursor: pointer;\n",
              "      display: none;\n",
              "      fill: #1967D2;\n",
              "      height: 32px;\n",
              "      padding: 0 0 0 0;\n",
              "      width: 32px;\n",
              "    }\n",
              "\n",
              "    .colab-df-convert:hover {\n",
              "      background-color: #E2EBFA;\n",
              "      box-shadow: 0px 1px 2px rgba(60, 64, 67, 0.3), 0px 1px 3px 1px rgba(60, 64, 67, 0.15);\n",
              "      fill: #174EA6;\n",
              "    }\n",
              "\n",
              "    [theme=dark] .colab-df-convert {\n",
              "      background-color: #3B4455;\n",
              "      fill: #D2E3FC;\n",
              "    }\n",
              "\n",
              "    [theme=dark] .colab-df-convert:hover {\n",
              "      background-color: #434B5C;\n",
              "      box-shadow: 0px 1px 3px 1px rgba(0, 0, 0, 0.15);\n",
              "      filter: drop-shadow(0px 1px 2px rgba(0, 0, 0, 0.3));\n",
              "      fill: #FFFFFF;\n",
              "    }\n",
              "  </style>\n",
              "\n",
              "      <script>\n",
              "        const buttonEl =\n",
              "          document.querySelector('#df-50a9a5f4-d7c0-4158-8335-632a750c8aba button.colab-df-convert');\n",
              "        buttonEl.style.display =\n",
              "          google.colab.kernel.accessAllowed ? 'block' : 'none';\n",
              "\n",
              "        async function convertToInteractive(key) {\n",
              "          const element = document.querySelector('#df-50a9a5f4-d7c0-4158-8335-632a750c8aba');\n",
              "          const dataTable =\n",
              "            await google.colab.kernel.invokeFunction('convertToInteractive',\n",
              "                                                     [key], {});\n",
              "          if (!dataTable) return;\n",
              "\n",
              "          const docLinkHtml = 'Like what you see? Visit the ' +\n",
              "            '<a target=\"_blank\" href=https://colab.research.google.com/notebooks/data_table.ipynb>data table notebook</a>'\n",
              "            + ' to learn more about interactive tables.';\n",
              "          element.innerHTML = '';\n",
              "          dataTable['output_type'] = 'display_data';\n",
              "          await google.colab.output.renderOutput(dataTable, element);\n",
              "          const docLink = document.createElement('div');\n",
              "          docLink.innerHTML = docLinkHtml;\n",
              "          element.appendChild(docLink);\n",
              "        }\n",
              "      </script>\n",
              "    </div>\n",
              "  </div>\n",
              "  "
            ]
          },
          "metadata": {},
          "execution_count": 5
        }
      ]
    },
    {
      "cell_type": "code",
      "source": [
        "debut_at_top = titles_df.loc[(titles_df['debut_rank'] == 1)]\n",
        "debut_at_top.head()"
      ],
      "metadata": {
        "colab": {
          "base_uri": "https://localhost:8080/",
          "height": 206
        },
        "id": "saPI-V7POhtK",
        "outputId": "61609c0f-2037-464e-a1f4-d8c9e485bbfb"
      },
      "execution_count": 6,
      "outputs": [
        {
          "output_type": "execute_result",
          "data": {
            "text/plain": [
              "      id            title             author  year  total_weeks  first_week  \\\n",
              "21  1016     CHASING FIRE       Nora Roberts  2011            5  2011-05-01   \n",
              "29  1023       CHESAPEAKE  James A. Michener  1978           47  1978-07-23   \n",
              "30  1024  CHESAPEAKE BLUE       Nora Roberts  2002            5  2002-11-24   \n",
              "39  1032     CHILL FACTOR       Sandra Brown  2005            6  2005-09-04   \n",
              "66  1057            CIRCE    Madeline Miller  2018           16  2018-04-29   \n",
              "\n",
              "    debut_rank  best_rank  \n",
              "21           1          1  \n",
              "29           1          1  \n",
              "30           1          1  \n",
              "39           1          1  \n",
              "66           1          1  "
            ],
            "text/html": [
              "\n",
              "  <div id=\"df-c639d24d-3347-4d56-9c83-ab90c0159179\">\n",
              "    <div class=\"colab-df-container\">\n",
              "      <div>\n",
              "<style scoped>\n",
              "    .dataframe tbody tr th:only-of-type {\n",
              "        vertical-align: middle;\n",
              "    }\n",
              "\n",
              "    .dataframe tbody tr th {\n",
              "        vertical-align: top;\n",
              "    }\n",
              "\n",
              "    .dataframe thead th {\n",
              "        text-align: right;\n",
              "    }\n",
              "</style>\n",
              "<table border=\"1\" class=\"dataframe\">\n",
              "  <thead>\n",
              "    <tr style=\"text-align: right;\">\n",
              "      <th></th>\n",
              "      <th>id</th>\n",
              "      <th>title</th>\n",
              "      <th>author</th>\n",
              "      <th>year</th>\n",
              "      <th>total_weeks</th>\n",
              "      <th>first_week</th>\n",
              "      <th>debut_rank</th>\n",
              "      <th>best_rank</th>\n",
              "    </tr>\n",
              "  </thead>\n",
              "  <tbody>\n",
              "    <tr>\n",
              "      <th>21</th>\n",
              "      <td>1016</td>\n",
              "      <td>CHASING FIRE</td>\n",
              "      <td>Nora Roberts</td>\n",
              "      <td>2011</td>\n",
              "      <td>5</td>\n",
              "      <td>2011-05-01</td>\n",
              "      <td>1</td>\n",
              "      <td>1</td>\n",
              "    </tr>\n",
              "    <tr>\n",
              "      <th>29</th>\n",
              "      <td>1023</td>\n",
              "      <td>CHESAPEAKE</td>\n",
              "      <td>James A. Michener</td>\n",
              "      <td>1978</td>\n",
              "      <td>47</td>\n",
              "      <td>1978-07-23</td>\n",
              "      <td>1</td>\n",
              "      <td>1</td>\n",
              "    </tr>\n",
              "    <tr>\n",
              "      <th>30</th>\n",
              "      <td>1024</td>\n",
              "      <td>CHESAPEAKE BLUE</td>\n",
              "      <td>Nora Roberts</td>\n",
              "      <td>2002</td>\n",
              "      <td>5</td>\n",
              "      <td>2002-11-24</td>\n",
              "      <td>1</td>\n",
              "      <td>1</td>\n",
              "    </tr>\n",
              "    <tr>\n",
              "      <th>39</th>\n",
              "      <td>1032</td>\n",
              "      <td>CHILL FACTOR</td>\n",
              "      <td>Sandra Brown</td>\n",
              "      <td>2005</td>\n",
              "      <td>6</td>\n",
              "      <td>2005-09-04</td>\n",
              "      <td>1</td>\n",
              "      <td>1</td>\n",
              "    </tr>\n",
              "    <tr>\n",
              "      <th>66</th>\n",
              "      <td>1057</td>\n",
              "      <td>CIRCE</td>\n",
              "      <td>Madeline Miller</td>\n",
              "      <td>2018</td>\n",
              "      <td>16</td>\n",
              "      <td>2018-04-29</td>\n",
              "      <td>1</td>\n",
              "      <td>1</td>\n",
              "    </tr>\n",
              "  </tbody>\n",
              "</table>\n",
              "</div>\n",
              "      <button class=\"colab-df-convert\" onclick=\"convertToInteractive('df-c639d24d-3347-4d56-9c83-ab90c0159179')\"\n",
              "              title=\"Convert this dataframe to an interactive table.\"\n",
              "              style=\"display:none;\">\n",
              "        \n",
              "  <svg xmlns=\"http://www.w3.org/2000/svg\" height=\"24px\"viewBox=\"0 0 24 24\"\n",
              "       width=\"24px\">\n",
              "    <path d=\"M0 0h24v24H0V0z\" fill=\"none\"/>\n",
              "    <path d=\"M18.56 5.44l.94 2.06.94-2.06 2.06-.94-2.06-.94-.94-2.06-.94 2.06-2.06.94zm-11 1L8.5 8.5l.94-2.06 2.06-.94-2.06-.94L8.5 2.5l-.94 2.06-2.06.94zm10 10l.94 2.06.94-2.06 2.06-.94-2.06-.94-.94-2.06-.94 2.06-2.06.94z\"/><path d=\"M17.41 7.96l-1.37-1.37c-.4-.4-.92-.59-1.43-.59-.52 0-1.04.2-1.43.59L10.3 9.45l-7.72 7.72c-.78.78-.78 2.05 0 2.83L4 21.41c.39.39.9.59 1.41.59.51 0 1.02-.2 1.41-.59l7.78-7.78 2.81-2.81c.8-.78.8-2.07 0-2.86zM5.41 20L4 18.59l7.72-7.72 1.47 1.35L5.41 20z\"/>\n",
              "  </svg>\n",
              "      </button>\n",
              "      \n",
              "  <style>\n",
              "    .colab-df-container {\n",
              "      display:flex;\n",
              "      flex-wrap:wrap;\n",
              "      gap: 12px;\n",
              "    }\n",
              "\n",
              "    .colab-df-convert {\n",
              "      background-color: #E8F0FE;\n",
              "      border: none;\n",
              "      border-radius: 50%;\n",
              "      cursor: pointer;\n",
              "      display: none;\n",
              "      fill: #1967D2;\n",
              "      height: 32px;\n",
              "      padding: 0 0 0 0;\n",
              "      width: 32px;\n",
              "    }\n",
              "\n",
              "    .colab-df-convert:hover {\n",
              "      background-color: #E2EBFA;\n",
              "      box-shadow: 0px 1px 2px rgba(60, 64, 67, 0.3), 0px 1px 3px 1px rgba(60, 64, 67, 0.15);\n",
              "      fill: #174EA6;\n",
              "    }\n",
              "\n",
              "    [theme=dark] .colab-df-convert {\n",
              "      background-color: #3B4455;\n",
              "      fill: #D2E3FC;\n",
              "    }\n",
              "\n",
              "    [theme=dark] .colab-df-convert:hover {\n",
              "      background-color: #434B5C;\n",
              "      box-shadow: 0px 1px 3px 1px rgba(0, 0, 0, 0.15);\n",
              "      filter: drop-shadow(0px 1px 2px rgba(0, 0, 0, 0.3));\n",
              "      fill: #FFFFFF;\n",
              "    }\n",
              "  </style>\n",
              "\n",
              "      <script>\n",
              "        const buttonEl =\n",
              "          document.querySelector('#df-c639d24d-3347-4d56-9c83-ab90c0159179 button.colab-df-convert');\n",
              "        buttonEl.style.display =\n",
              "          google.colab.kernel.accessAllowed ? 'block' : 'none';\n",
              "\n",
              "        async function convertToInteractive(key) {\n",
              "          const element = document.querySelector('#df-c639d24d-3347-4d56-9c83-ab90c0159179');\n",
              "          const dataTable =\n",
              "            await google.colab.kernel.invokeFunction('convertToInteractive',\n",
              "                                                     [key], {});\n",
              "          if (!dataTable) return;\n",
              "\n",
              "          const docLinkHtml = 'Like what you see? Visit the ' +\n",
              "            '<a target=\"_blank\" href=https://colab.research.google.com/notebooks/data_table.ipynb>data table notebook</a>'\n",
              "            + ' to learn more about interactive tables.';\n",
              "          element.innerHTML = '';\n",
              "          dataTable['output_type'] = 'display_data';\n",
              "          await google.colab.output.renderOutput(dataTable, element);\n",
              "          const docLink = document.createElement('div');\n",
              "          docLink.innerHTML = docLinkHtml;\n",
              "          element.appendChild(docLink);\n",
              "        }\n",
              "      </script>\n",
              "    </div>\n",
              "  </div>\n",
              "  "
            ]
          },
          "metadata": {},
          "execution_count": 6
        }
      ]
    },
    {
      "cell_type": "code",
      "source": [
        "debut_at_top.info()"
      ],
      "metadata": {
        "colab": {
          "base_uri": "https://localhost:8080/"
        },
        "id": "fVcsFfX9OxNt",
        "outputId": "98959d1f-1b9c-4896-e490-4037c5bae6a9"
      },
      "execution_count": 7,
      "outputs": [
        {
          "output_type": "stream",
          "name": "stdout",
          "text": [
            "<class 'pandas.core.frame.DataFrame'>\n",
            "Int64Index: 627 entries, 21 to 7430\n",
            "Data columns (total 8 columns):\n",
            " #   Column       Non-Null Count  Dtype \n",
            "---  ------       --------------  ----- \n",
            " 0    id          627 non-null    int64 \n",
            " 1   title        627 non-null    object\n",
            " 2   author       627 non-null    object\n",
            " 3   year         627 non-null    int64 \n",
            " 4   total_weeks  627 non-null    int64 \n",
            " 5   first_week   627 non-null    object\n",
            " 6   debut_rank   627 non-null    int64 \n",
            " 7   best_rank    627 non-null    int64 \n",
            "dtypes: int64(5), object(3)\n",
            "memory usage: 44.1+ KB\n"
          ]
        }
      ]
    },
    {
      "cell_type": "markdown",
      "source": [
        "# CLEAN UP DATA"
      ],
      "metadata": {
        "id": "GPXynMZ9kPRz"
      }
    },
    {
      "cell_type": "markdown",
      "source": [
        "# \"MOST PROLIFIC\" (AUTHOR WITH MOST TITLES ON LIST)"
      ],
      "metadata": {
        "id": "8bEi6LvMkde4"
      }
    },
    {
      "cell_type": "code",
      "source": [
        "titles_df['author'].value_counts()[:10]"
      ],
      "metadata": {
        "colab": {
          "base_uri": "https://localhost:8080/"
        },
        "id": "z045AFbm5ZoT",
        "outputId": "004e93ee-9eaf-43bf-a74d-61d51c41310d"
      },
      "execution_count": 2,
      "outputs": [
        {
          "output_type": "execute_result",
          "data": {
            "text/plain": [
              "Danielle Steel        116\n",
              "Stuart Woods           63\n",
              "Stephen King           54\n",
              "Robert B. Parker       47\n",
              "John Sandford          44\n",
              "David Baldacci         42\n",
              "Sandra Brown           40\n",
              "Dean Koontz            40\n",
              "Mary Higgins Clark     40\n",
              "Nora Roberts           38\n",
              "Name: author, dtype: int64"
            ]
          },
          "metadata": {},
          "execution_count": 2
        }
      ]
    },
    {
      "cell_type": "markdown",
      "source": [
        "wow, check out daneille steel? nearly double the next author. never heard of her, maybe I should check out a book or two of hers. (Same goes for stuart woods, looks like he had a series of novels about a character named Stone Barrington)"
      ],
      "metadata": {
        "id": "OLBF6PELPBFM"
      }
    },
    {
      "cell_type": "code",
      "source": [
        "top_ten_by_titles = titles_df['author'].value_counts()[:10]"
      ],
      "metadata": {
        "id": "N42CWBOfCkg2"
      },
      "execution_count": 3,
      "outputs": []
    },
    {
      "cell_type": "code",
      "source": [
        "top_ten_by_titles.info()"
      ],
      "metadata": {
        "colab": {
          "base_uri": "https://localhost:8080/"
        },
        "id": "x5v_uBABR2lw",
        "outputId": "610a274a-3ff4-4245-9fdc-29631db15197"
      },
      "execution_count": 4,
      "outputs": [
        {
          "output_type": "stream",
          "name": "stdout",
          "text": [
            "<class 'pandas.core.series.Series'>\n",
            "Index: 10 entries, Danielle Steel to Nora Roberts\n",
            "Series name: author\n",
            "Non-Null Count  Dtype\n",
            "--------------  -----\n",
            "10 non-null     int64\n",
            "dtypes: int64(1)\n",
            "memory usage: 160.0+ bytes\n"
          ]
        }
      ]
    },
    {
      "cell_type": "code",
      "source": [
        "new_df = pd.DataFrame(data=top_ten_by_titles, columns=['author', 'number_of_titles'])\n",
        "new_df.reset_index(inplace=True)\n",
        "new_df = new_df.rename(columns = {'index':'authors'})\n",
        "del new_df['number_of_titles']\n",
        "new_df = new_df.rename(columns = {'author':'books_on_list'})\n",
        "print(new_df)"
      ],
      "metadata": {
        "colab": {
          "base_uri": "https://localhost:8080/"
        },
        "id": "QxMRmhw0PsNK",
        "outputId": "2d5d72c7-454a-4f67-a88b-3d6c11993ad2"
      },
      "execution_count": 5,
      "outputs": [
        {
          "output_type": "stream",
          "name": "stdout",
          "text": [
            "              authors  books_on_list\n",
            "0      Danielle Steel            116\n",
            "1        Stuart Woods             63\n",
            "2        Stephen King             54\n",
            "3    Robert B. Parker             47\n",
            "4       John Sandford             44\n",
            "5      David Baldacci             42\n",
            "6        Sandra Brown             40\n",
            "7         Dean Koontz             40\n",
            "8  Mary Higgins Clark             40\n",
            "9        Nora Roberts             38\n"
          ]
        }
      ]
    },
    {
      "cell_type": "code",
      "source": [
        "# Draw a vertical bar chart\n",
        "\n",
        "new_df.plot.bar(x=\"authors\", y=\"books_on_list\", rot=70, title=\"Most Prolific Authors\");\n",
        "\n",
        "plot.show(block=True);"
      ],
      "metadata": {
        "colab": {
          "base_uri": "https://localhost:8080/",
          "height": 773
        },
        "id": "Fd68u9HzDVof",
        "outputId": "3b02a8ce-728d-4ab4-aaab-fab51393ecb9"
      },
      "execution_count": 6,
      "outputs": [
        {
          "output_type": "error",
          "ename": "NameError",
          "evalue": "ignored",
          "traceback": [
            "\u001b[0;31m---------------------------------------------------------------------------\u001b[0m",
            "\u001b[0;31mNameError\u001b[0m                                 Traceback (most recent call last)",
            "\u001b[0;32m<ipython-input-6-6a55d5f0248c>\u001b[0m in \u001b[0;36m<cell line: 5>\u001b[0;34m()\u001b[0m\n\u001b[1;32m      3\u001b[0m \u001b[0mnew_df\u001b[0m\u001b[0;34m.\u001b[0m\u001b[0mplot\u001b[0m\u001b[0;34m.\u001b[0m\u001b[0mbar\u001b[0m\u001b[0;34m(\u001b[0m\u001b[0mx\u001b[0m\u001b[0;34m=\u001b[0m\u001b[0;34m\"authors\"\u001b[0m\u001b[0;34m,\u001b[0m \u001b[0my\u001b[0m\u001b[0;34m=\u001b[0m\u001b[0;34m\"books_on_list\"\u001b[0m\u001b[0;34m,\u001b[0m \u001b[0mrot\u001b[0m\u001b[0;34m=\u001b[0m\u001b[0;36m70\u001b[0m\u001b[0;34m,\u001b[0m \u001b[0mtitle\u001b[0m\u001b[0;34m=\u001b[0m\u001b[0;34m\"Most Prolific Authors\"\u001b[0m\u001b[0;34m)\u001b[0m\u001b[0;34m;\u001b[0m\u001b[0;34m\u001b[0m\u001b[0;34m\u001b[0m\u001b[0m\n\u001b[1;32m      4\u001b[0m \u001b[0;34m\u001b[0m\u001b[0m\n\u001b[0;32m----> 5\u001b[0;31m \u001b[0mplot\u001b[0m\u001b[0;34m.\u001b[0m\u001b[0mshow\u001b[0m\u001b[0;34m(\u001b[0m\u001b[0mblock\u001b[0m\u001b[0;34m=\u001b[0m\u001b[0;32mTrue\u001b[0m\u001b[0;34m)\u001b[0m\u001b[0;34m;\u001b[0m\u001b[0;34m\u001b[0m\u001b[0;34m\u001b[0m\u001b[0m\n\u001b[0m",
            "\u001b[0;31mNameError\u001b[0m: name 'plot' is not defined"
          ]
        },
        {
          "output_type": "display_data",
          "data": {
            "text/plain": [
              "<Figure size 640x480 with 1 Axes>"
            ],
            "image/png": "[encoded data removed]"
          },
          "metadata": {}
        }
      ]
    },
    {
      "cell_type": "markdown",
      "source": [
        "https://drive.google.com/file/d/14QC6AWnJe44zJ5thcJEjquGnt5O-M6ke/view?usp=share_link"
      ],
      "metadata": {
        "id": "dR4x15VXaKFH"
      }
    },
    {
      "cell_type": "markdown",
      "source": [
        "![books graphic.jpg](data:image/jpeg;base64,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)"
      ],
      "metadata": {
        "id": "HQSok5TzaL4z"
      }
    },
    {
      "cell_type": "markdown",
      "source": [
        "# \"LONGEST STRETCH BETWEEN BEST SELLERS\" (GREATEST TIMESPAN BETWEEN BESTSELLING BOOKS)\n",
        "\n",
        "match rows by author, find the greatest datediff of first weeks for \n",
        "\n",
        "get 2 tables\n",
        "*   Get/filter the authors with 2+ records. Find/filter on max of first week for reach author.... create a table called 'newest_book' , (update column so book is called 'newest book') DO A GROUP BY MAX\n",
        "*   Get/filter the authors with 2+ records. Find/filter on min of first week for each author.... create a table called 'oldest book' (update column so book is called 'oldest book') DO A GROUP BY MIN\n",
        "*   combine these 2 tables on the 'author' column; resulting table should have\n",
        "\n",
        "author | oldest book | newest book | oldest date | newest date\n",
        "\n",
        "*   create a new column coalled 'date_diff' , that is the difference of 'oldest_date and newest_date\n",
        "*   order this table by max of 'date_diff'\n",
        "\n"
      ],
      "metadata": {
        "id": "0PeID6NckXd8"
      }
    },
    {
      "cell_type": "code",
      "source": [
        "oldest = titles_df.groupby('author')['year'].max().reset_index()\n",
        "df_oldest = pd.DataFrame(data=oldest)\n",
        "df_oldest.columns = ['author', 'first_year_on_list']\n",
        "print(df_oldest)\n",
        "\n",
        "#why is this not working / the same as the output for .min?"
      ],
      "metadata": {
        "colab": {
          "base_uri": "https://localhost:8080/"
        },
        "id": "rNH5vFAokFlI",
        "outputId": "23180362-d2f7-404b-9cb0-1e4d87ee46b5"
      },
      "execution_count": 65,
      "outputs": [
        {
          "output_type": "stream",
          "name": "stdout",
          "text": [
            "                                                 author  first_year_on_list\n",
            "0                                         Martha Grimes                1987\n",
            "1                             Elizabeth Forsythe Hailey                1986\n",
            "2                                     James A. Michener                1987\n",
            "3                               Maxence van der Meersch                1937\n",
            "4                                     ! by Fannie Flagg                1998\n",
            "...                                                 ...                 ...\n",
            "2205            written and illustrated by James Gurney                1992\n",
            "2206               written and illustrated by Jan Brett                1990\n",
            "2207  written and illustrated by Janet and Allan Ahl...                1991\n",
            "2208   written and illustrated by Mattie J. T. Stepanek                2002\n",
            "2209    written and illustrated by Mattie J.T. Stepanek                2001\n",
            "\n",
            "[2210 rows x 2 columns]\n"
          ]
        }
      ]
    },
    {
      "cell_type": "code",
      "source": [
        "newest = titles_df.groupby('author')['year'].min().reset_index()\n",
        "df_newest = pd.DataFrame(data=newest)\n",
        "df_newest.columns = ['author', 'last_year_on_list']\n",
        "print(df_newest)"
      ],
      "metadata": {
        "colab": {
          "base_uri": "https://localhost:8080/"
        },
        "id": "wXMeOVIlkHbT",
        "outputId": "096313ec-ef23-4cad-971a-23e2f054f9ac"
      },
      "execution_count": 66,
      "outputs": [
        {
          "output_type": "stream",
          "name": "stdout",
          "text": [
            "                                                 author  last_year_on_list\n",
            "0                                         Martha Grimes               1987\n",
            "1                             Elizabeth Forsythe Hailey               1986\n",
            "2                                     James A. Michener               1987\n",
            "3                               Maxence van der Meersch               1937\n",
            "4                                     ! by Fannie Flagg               1998\n",
            "...                                                 ...                ...\n",
            "2205            written and illustrated by James Gurney               1992\n",
            "2206               written and illustrated by Jan Brett               1990\n",
            "2207  written and illustrated by Janet and Allan Ahl...               1991\n",
            "2208   written and illustrated by Mattie J. T. Stepanek               2001\n",
            "2209    written and illustrated by Mattie J.T. Stepanek               2001\n",
            "\n",
            "[2210 rows x 2 columns]\n"
          ]
        }
      ]
    },
    {
      "cell_type": "code",
      "source": [
        "merged_df_duration = pd.merge(df_newest,df_oldest,on='author',how=\"outer\")\n",
        "print(merged_df_duration)\n",
        "m"
      ],
      "metadata": {
        "colab": {
          "base_uri": "https://localhost:8080/",
          "height": 683
        },
        "id": "iCMrbA-0kcel",
        "outputId": "5c2c37f6-5a78-4ed0-8cfb-b6fd53fd475e"
      },
      "execution_count": 70,
      "outputs": [
        {
          "output_type": "stream",
          "name": "stdout",
          "text": [
            "                                                 author  last_year_on_list  \\\n",
            "0                                         Martha Grimes               1987   \n",
            "1                             Elizabeth Forsythe Hailey               1986   \n",
            "2                                     James A. Michener               1987   \n",
            "3                               Maxence van der Meersch               1937   \n",
            "4                                     ! by Fannie Flagg               1998   \n",
            "...                                                 ...                ...   \n",
            "2205            written and illustrated by James Gurney               1992   \n",
            "2206               written and illustrated by Jan Brett               1990   \n",
            "2207  written and illustrated by Janet and Allan Ahl...               1991   \n",
            "2208   written and illustrated by Mattie J. T. Stepanek               2001   \n",
            "2209    written and illustrated by Mattie J.T. Stepanek               2001   \n",
            "\n",
            "      first_year_on_list  \n",
            "0                   1987  \n",
            "1                   1986  \n",
            "2                   1987  \n",
            "3                   1937  \n",
            "4                   1998  \n",
            "...                  ...  \n",
            "2205                1992  \n",
            "2206                1990  \n",
            "2207                1991  \n",
            "2208                2002  \n",
            "2209                2001  \n",
            "\n",
            "[2210 rows x 3 columns]\n"
          ]
        },
        {
          "output_type": "error",
          "ename": "NameError",
          "evalue": "ignored",
          "traceback": [
            "\u001b[0;31m---------------------------------------------------------------------------\u001b[0m",
            "\u001b[0;31mNameError\u001b[0m                                 Traceback (most recent call last)",
            "\u001b[0;32m<ipython-input-70-5f84b5cd4648>\u001b[0m in \u001b[0;36m<cell line: 3>\u001b[0;34m()\u001b[0m\n\u001b[1;32m      1\u001b[0m \u001b[0mmerged_df_duration\u001b[0m \u001b[0;34m=\u001b[0m \u001b[0mpd\u001b[0m\u001b[0;34m.\u001b[0m\u001b[0mmerge\u001b[0m\u001b[0;34m(\u001b[0m\u001b[0mdf_newest\u001b[0m\u001b[0;34m,\u001b[0m\u001b[0mdf_oldest\u001b[0m\u001b[0;34m,\u001b[0m\u001b[0mon\u001b[0m\u001b[0;34m=\u001b[0m\u001b[0;34m'author'\u001b[0m\u001b[0;34m,\u001b[0m\u001b[0mhow\u001b[0m\u001b[0;34m=\u001b[0m\u001b[0;34m\"outer\"\u001b[0m\u001b[0;34m)\u001b[0m\u001b[0;34m\u001b[0m\u001b[0;34m\u001b[0m\u001b[0m\n\u001b[1;32m      2\u001b[0m \u001b[0mprint\u001b[0m\u001b[0;34m(\u001b[0m\u001b[0mmerged_df_duration\u001b[0m\u001b[0;34m)\u001b[0m\u001b[0;34m\u001b[0m\u001b[0;34m\u001b[0m\u001b[0m\n\u001b[0;32m----> 3\u001b[0;31m \u001b[0mm\u001b[0m\u001b[0;34m\u001b[0m\u001b[0;34m\u001b[0m\u001b[0m\n\u001b[0m",
            "\u001b[0;31mNameError\u001b[0m: name 'm' is not defined"
          ]
        }
      ]
    },
    {
      "cell_type": "code",
      "source": [
        "merged_df_duration['timespan'] = merged_df_duration['last_year_on_list'] - merged_df_duration['first_year_on_list']\n",
        "print(merged_df_duration)"
      ],
      "metadata": {
        "colab": {
          "base_uri": "https://localhost:8080/"
        },
        "id": "ypFpPJmyluvo",
        "outputId": "e883451c-f4b6-490f-8845-1e8c24f61c41"
      },
      "execution_count": 71,
      "outputs": [
        {
          "output_type": "stream",
          "name": "stdout",
          "text": [
            "                                                 author  last_year_on_list  \\\n",
            "0                                         Martha Grimes               1987   \n",
            "1                             Elizabeth Forsythe Hailey               1986   \n",
            "2                                     James A. Michener               1987   \n",
            "3                               Maxence van der Meersch               1937   \n",
            "4                                     ! by Fannie Flagg               1998   \n",
            "...                                                 ...                ...   \n",
            "2205            written and illustrated by James Gurney               1992   \n",
            "2206               written and illustrated by Jan Brett               1990   \n",
            "2207  written and illustrated by Janet and Allan Ahl...               1991   \n",
            "2208   written and illustrated by Mattie J. T. Stepanek               2001   \n",
            "2209    written and illustrated by Mattie J.T. Stepanek               2001   \n",
            "\n",
            "      first_year_on_list  timespan  \n",
            "0                   1987         0  \n",
            "1                   1986         0  \n",
            "2                   1987         0  \n",
            "3                   1937         0  \n",
            "4                   1998         0  \n",
            "...                  ...       ...  \n",
            "2205                1992         0  \n",
            "2206                1990         0  \n",
            "2207                1991         0  \n",
            "2208                2002        -1  \n",
            "2209                2001         0  \n",
            "\n",
            "[2210 rows x 4 columns]\n"
          ]
        }
      ]
    },
    {
      "cell_type": "markdown",
      "source": [
        "filtering the dataframe to get records where author appears more than once...\n",
        "\n",
        "https://www.geeksforgeeks.org/numpy-where-in-python/\n",
        "https://www.digitalocean.com/community/tutorials/python-numpy-where \n",
        "https://www.includehelp.com/python/how-to-filter-a-pandas-dataframe-based-on-value-counts.aspx\n",
        "https://stackoverflow.com/questions/29836836/how-do-i-filter-a-pandas-dataframe-based-on-value-counts\n",
        "https://softhints.com/pandas-how-to-filter-results-of-value_counts/"
      ],
      "metadata": {
        "id": "k5PIVjRrp88_"
      }
    },
    {
      "cell_type": "code",
      "source": [
        "#multiple_books_df1 = titles_df['author'].value_counts()[>10]\n",
        "#multiple_books = titles_df.where(titles_df.author.value_counts > 2)\n",
        "multiple_books1 = titles_df['author'].value_counts().loc[lambda x : x>1]\n",
        "print(multiple_books1)"
      ],
      "metadata": {
        "colab": {
          "base_uri": "https://localhost:8080/"
        },
        "id": "pY-_Fl1cpBHT",
        "outputId": "2368259a-860a-46be-ac03-c907166e3c0f"
      },
      "execution_count": 14,
      "outputs": [
        {
          "output_type": "stream",
          "name": "stdout",
          "text": [
            "Danielle Steel                    116\n",
            "Stuart Woods                       63\n",
            "Stephen King                       54\n",
            "Robert B. Parker                   47\n",
            "John Sandford                      44\n",
            "                                 ... \n",
            "Joseph Fink and Jeffrey Cranor      2\n",
            "MaryJanice Davidson                 2\n",
            "Christina Baker Kline               2\n",
            "Sebastian Faulks                    2\n",
            "James Wesley Rawles                 2\n",
            "Name: author, Length: 978, dtype: int64\n"
          ]
        }
      ]
    },
    {
      "cell_type": "code",
      "source": [
        "multiple_books1 = multiple_books1.reset_index()"
      ],
      "metadata": {
        "id": "vgG91cQgUQl0"
      },
      "execution_count": 16,
      "outputs": []
    },
    {
      "cell_type": "code",
      "source": [
        "multiple_books1.head()"
      ],
      "metadata": {
        "colab": {
          "base_uri": "https://localhost:8080/",
          "height": 206
        },
        "id": "5Kubgi2oUUnr",
        "outputId": "fbe5de6b-9e2d-4dd5-8b86-9e17e921bab6"
      },
      "execution_count": 17,
      "outputs": [
        {
          "output_type": "execute_result",
          "data": {
            "text/plain": [
              "              index  author\n",
              "0    Danielle Steel     116\n",
              "1      Stuart Woods      63\n",
              "2      Stephen King      54\n",
              "3  Robert B. Parker      47\n",
              "4     John Sandford      44"
            ],
            "text/html": [
              "\n",
              "  <div id=\"df-0ce627b9-253d-496d-b3c2-f33891425898\">\n",
              "    <div class=\"colab-df-container\">\n",
              "      <div>\n",
              "<style scoped>\n",
              "    .dataframe tbody tr th:only-of-type {\n",
              "        vertical-align: middle;\n",
              "    }\n",
              "\n",
              "    .dataframe tbody tr th {\n",
              "        vertical-align: top;\n",
              "    }\n",
              "\n",
              "    .dataframe thead th {\n",
              "        text-align: right;\n",
              "    }\n",
              "</style>\n",
              "<table border=\"1\" class=\"dataframe\">\n",
              "  <thead>\n",
              "    <tr style=\"text-align: right;\">\n",
              "      <th></th>\n",
              "      <th>index</th>\n",
              "      <th>author</th>\n",
              "    </tr>\n",
              "  </thead>\n",
              "  <tbody>\n",
              "    <tr>\n",
              "      <th>0</th>\n",
              "      <td>Danielle Steel</td>\n",
              "      <td>116</td>\n",
              "    </tr>\n",
              "    <tr>\n",
              "      <th>1</th>\n",
              "      <td>Stuart Woods</td>\n",
              "      <td>63</td>\n",
              "    </tr>\n",
              "    <tr>\n",
              "      <th>2</th>\n",
              "      <td>Stephen King</td>\n",
              "      <td>54</td>\n",
              "    </tr>\n",
              "    <tr>\n",
              "      <th>3</th>\n",
              "      <td>Robert B. Parker</td>\n",
              "      <td>47</td>\n",
              "    </tr>\n",
              "    <tr>\n",
              "      <th>4</th>\n",
              "      <td>John Sandford</td>\n",
              "      <td>44</td>\n",
              "    </tr>\n",
              "  </tbody>\n",
              "</table>\n",
              "</div>\n",
              "      <button class=\"colab-df-convert\" onclick=\"convertToInteractive('df-0ce627b9-253d-496d-b3c2-f33891425898')\"\n",
              "              title=\"Convert this dataframe to an interactive table.\"\n",
              "              style=\"display:none;\">\n",
              "        \n",
              "  <svg xmlns=\"http://www.w3.org/2000/svg\" height=\"24px\"viewBox=\"0 0 24 24\"\n",
              "       width=\"24px\">\n",
              "    <path d=\"M0 0h24v24H0V0z\" fill=\"none\"/>\n",
              "    <path d=\"M18.56 5.44l.94 2.06.94-2.06 2.06-.94-2.06-.94-.94-2.06-.94 2.06-2.06.94zm-11 1L8.5 8.5l.94-2.06 2.06-.94-2.06-.94L8.5 2.5l-.94 2.06-2.06.94zm10 10l.94 2.06.94-2.06 2.06-.94-2.06-.94-.94-2.06-.94 2.06-2.06.94z\"/><path d=\"M17.41 7.96l-1.37-1.37c-.4-.4-.92-.59-1.43-.59-.52 0-1.04.2-1.43.59L10.3 9.45l-7.72 7.72c-.78.78-.78 2.05 0 2.83L4 21.41c.39.39.9.59 1.41.59.51 0 1.02-.2 1.41-.59l7.78-7.78 2.81-2.81c.8-.78.8-2.07 0-2.86zM5.41 20L4 18.59l7.72-7.72 1.47 1.35L5.41 20z\"/>\n",
              "  </svg>\n",
              "      </button>\n",
              "      \n",
              "  <style>\n",
              "    .colab-df-container {\n",
              "      display:flex;\n",
              "      flex-wrap:wrap;\n",
              "      gap: 12px;\n",
              "    }\n",
              "\n",
              "    .colab-df-convert {\n",
              "      background-color: #E8F0FE;\n",
              "      border: none;\n",
              "      border-radius: 50%;\n",
              "      cursor: pointer;\n",
              "      display: none;\n",
              "      fill: #1967D2;\n",
              "      height: 32px;\n",
              "      padding: 0 0 0 0;\n",
              "      width: 32px;\n",
              "    }\n",
              "\n",
              "    .colab-df-convert:hover {\n",
              "      background-color: #E2EBFA;\n",
              "      box-shadow: 0px 1px 2px rgba(60, 64, 67, 0.3), 0px 1px 3px 1px rgba(60, 64, 67, 0.15);\n",
              "      fill: #174EA6;\n",
              "    }\n",
              "\n",
              "    [theme=dark] .colab-df-convert {\n",
              "      background-color: #3B4455;\n",
              "      fill: #D2E3FC;\n",
              "    }\n",
              "\n",
              "    [theme=dark] .colab-df-convert:hover {\n",
              "      background-color: #434B5C;\n",
              "      box-shadow: 0px 1px 3px 1px rgba(0, 0, 0, 0.15);\n",
              "      filter: drop-shadow(0px 1px 2px rgba(0, 0, 0, 0.3));\n",
              "      fill: #FFFFFF;\n",
              "    }\n",
              "  </style>\n",
              "\n",
              "      <script>\n",
              "        const buttonEl =\n",
              "          document.querySelector('#df-0ce627b9-253d-496d-b3c2-f33891425898 button.colab-df-convert');\n",
              "        buttonEl.style.display =\n",
              "          google.colab.kernel.accessAllowed ? 'block' : 'none';\n",
              "\n",
              "        async function convertToInteractive(key) {\n",
              "          const element = document.querySelector('#df-0ce627b9-253d-496d-b3c2-f33891425898');\n",
              "          const dataTable =\n",
              "            await google.colab.kernel.invokeFunction('convertToInteractive',\n",
              "                                                     [key], {});\n",
              "          if (!dataTable) return;\n",
              "\n",
              "          const docLinkHtml = 'Like what you see? Visit the ' +\n",
              "            '<a target=\"_blank\" href=https://colab.research.google.com/notebooks/data_table.ipynb>data table notebook</a>'\n",
              "            + ' to learn more about interactive tables.';\n",
              "          element.innerHTML = '';\n",
              "          dataTable['output_type'] = 'display_data';\n",
              "          await google.colab.output.renderOutput(dataTable, element);\n",
              "          const docLink = document.createElement('div');\n",
              "          docLink.innerHTML = docLinkHtml;\n",
              "          element.appendChild(docLink);\n",
              "        }\n",
              "      </script>\n",
              "    </div>\n",
              "  </div>\n",
              "  "
            ]
          },
          "metadata": {},
          "execution_count": 17
        }
      ]
    },
    {
      "cell_type": "code",
      "source": [
        "multiple_books1_df = pd.DataFrame(multiple_books1)\n",
        "print(multiple_books1_df)"
      ],
      "metadata": {
        "colab": {
          "base_uri": "https://localhost:8080/"
        },
        "id": "YdB3Qa-8iq1_",
        "outputId": "ac7bc566-48c9-4c9e-f2fd-2b484f1cd51e"
      },
      "execution_count": 56,
      "outputs": [
        {
          "output_type": "stream",
          "name": "stdout",
          "text": [
            "                              index  author\n",
            "0                    Danielle Steel     116\n",
            "1                      Stuart Woods      63\n",
            "2                      Stephen King      54\n",
            "3                  Robert B. Parker      47\n",
            "4                     John Sandford      44\n",
            "..                              ...     ...\n",
            "973  Joseph Fink and Jeffrey Cranor       2\n",
            "974             MaryJanice Davidson       2\n",
            "975           Christina Baker Kline       2\n",
            "976                Sebastian Faulks       2\n",
            "977             James Wesley Rawles       2\n",
            "\n",
            "[978 rows x 2 columns]\n"
          ]
        }
      ]
    },
    {
      "cell_type": "code",
      "source": [
        "multiple_books1_df.columns = ['author','number_of_books']\n",
        "print(multiple_books1_df)"
      ],
      "metadata": {
        "colab": {
          "base_uri": "https://localhost:8080/"
        },
        "id": "6gnZElbwi70e",
        "outputId": "33f044ff-d35b-4f35-dc3c-caacf506de48"
      },
      "execution_count": 57,
      "outputs": [
        {
          "output_type": "stream",
          "name": "stdout",
          "text": [
            "                             author  number_of_books\n",
            "0                    Danielle Steel              116\n",
            "1                      Stuart Woods               63\n",
            "2                      Stephen King               54\n",
            "3                  Robert B. Parker               47\n",
            "4                     John Sandford               44\n",
            "..                              ...              ...\n",
            "973  Joseph Fink and Jeffrey Cranor                2\n",
            "974             MaryJanice Davidson                2\n",
            "975           Christina Baker Kline                2\n",
            "976                Sebastian Faulks                2\n",
            "977             James Wesley Rawles                2\n",
            "\n",
            "[978 rows x 2 columns]\n"
          ]
        }
      ]
    },
    {
      "cell_type": "code",
      "source": [
        "merged_df3 = pd.merge(multiple_books1_df,titles_df,on='authors',how=\"outer\")\n",
        "print(merged_df3)"
      ],
      "metadata": {
        "colab": {
          "base_uri": "https://localhost:8080/",
          "height": 334
        },
        "id": "44aWIlYLaldA",
        "outputId": "39b25020-9055-4aff-aae9-0098e7a4ff60"
      },
      "execution_count": 58,
      "outputs": [
        {
          "output_type": "error",
          "ename": "KeyError",
          "evalue": "ignored",
          "traceback": [
            "\u001b[0;31m---------------------------------------------------------------------------\u001b[0m",
            "\u001b[0;31mKeyError\u001b[0m                                  Traceback (most recent call last)",
            "\u001b[0;32m<ipython-input-58-4ae964111335>\u001b[0m in \u001b[0;36m<cell line: 1>\u001b[0;34m()\u001b[0m\n\u001b[0;32m----> 1\u001b[0;31m \u001b[0mmerged_df3\u001b[0m \u001b[0;34m=\u001b[0m \u001b[0mpd\u001b[0m\u001b[0;34m.\u001b[0m\u001b[0mmerge\u001b[0m\u001b[0;34m(\u001b[0m\u001b[0mmultiple_books1_df\u001b[0m\u001b[0;34m,\u001b[0m\u001b[0mtitles_df\u001b[0m\u001b[0;34m,\u001b[0m\u001b[0mon\u001b[0m\u001b[0;34m=\u001b[0m\u001b[0;34m'authors'\u001b[0m\u001b[0;34m,\u001b[0m\u001b[0mhow\u001b[0m\u001b[0;34m=\u001b[0m\u001b[0;34m\"outer\"\u001b[0m\u001b[0;34m)\u001b[0m\u001b[0;34m\u001b[0m\u001b[0;34m\u001b[0m\u001b[0m\n\u001b[0m\u001b[1;32m      2\u001b[0m \u001b[0mprint\u001b[0m\u001b[0;34m(\u001b[0m\u001b[0mmerged_df3\u001b[0m\u001b[0;34m)\u001b[0m\u001b[0;34m\u001b[0m\u001b[0;34m\u001b[0m\u001b[0m\n",
            "\u001b[0;32m/usr/local/lib/python3.10/dist-packages/pandas/core/reshape/merge.py\u001b[0m in \u001b[0;36mmerge\u001b[0;34m(left, right, how, on, left_on, right_on, left_index, right_index, sort, suffixes, copy, indicator, validate)\u001b[0m\n\u001b[1;32m    108\u001b[0m     \u001b[0mvalidate\u001b[0m\u001b[0;34m:\u001b[0m \u001b[0mstr\u001b[0m \u001b[0;34m|\u001b[0m \u001b[0;32mNone\u001b[0m \u001b[0;34m=\u001b[0m \u001b[0;32mNone\u001b[0m\u001b[0;34m,\u001b[0m\u001b[0;34m\u001b[0m\u001b[0;34m\u001b[0m\u001b[0m\n\u001b[1;32m    109\u001b[0m ) -> DataFrame:\n\u001b[0;32m--> 110\u001b[0;31m     op = _MergeOperation(\n\u001b[0m\u001b[1;32m    111\u001b[0m         \u001b[0mleft\u001b[0m\u001b[0;34m,\u001b[0m\u001b[0;34m\u001b[0m\u001b[0;34m\u001b[0m\u001b[0m\n\u001b[1;32m    112\u001b[0m         \u001b[0mright\u001b[0m\u001b[0;34m,\u001b[0m\u001b[0;34m\u001b[0m\u001b[0;34m\u001b[0m\u001b[0m\n",
            "\u001b[0;32m/usr/local/lib/python3.10/dist-packages/pandas/core/reshape/merge.py\u001b[0m in \u001b[0;36m__init__\u001b[0;34m(self, left, right, how, on, left_on, right_on, axis, left_index, right_index, sort, suffixes, indicator, validate)\u001b[0m\n\u001b[1;32m    701\u001b[0m             \u001b[0mself\u001b[0m\u001b[0;34m.\u001b[0m\u001b[0mright_join_keys\u001b[0m\u001b[0;34m,\u001b[0m\u001b[0;34m\u001b[0m\u001b[0;34m\u001b[0m\u001b[0m\n\u001b[1;32m    702\u001b[0m             \u001b[0mself\u001b[0m\u001b[0;34m.\u001b[0m\u001b[0mjoin_names\u001b[0m\u001b[0;34m,\u001b[0m\u001b[0;34m\u001b[0m\u001b[0;34m\u001b[0m\u001b[0m\n\u001b[0;32m--> 703\u001b[0;31m         ) = self._get_merge_keys()\n\u001b[0m\u001b[1;32m    704\u001b[0m \u001b[0;34m\u001b[0m\u001b[0m\n\u001b[1;32m    705\u001b[0m         \u001b[0;31m# validate the merge keys dtypes. We may need to coerce\u001b[0m\u001b[0;34m\u001b[0m\u001b[0;34m\u001b[0m\u001b[0m\n",
            "\u001b[0;32m/usr/local/lib/python3.10/dist-packages/pandas/core/reshape/merge.py\u001b[0m in \u001b[0;36m_get_merge_keys\u001b[0;34m(self)\u001b[0m\n\u001b[1;32m   1160\u001b[0m                         \u001b[0mrk\u001b[0m \u001b[0;34m=\u001b[0m \u001b[0mcast\u001b[0m\u001b[0;34m(\u001b[0m\u001b[0mHashable\u001b[0m\u001b[0;34m,\u001b[0m \u001b[0mrk\u001b[0m\u001b[0;34m)\u001b[0m\u001b[0;34m\u001b[0m\u001b[0;34m\u001b[0m\u001b[0m\n\u001b[1;32m   1161\u001b[0m                         \u001b[0;32mif\u001b[0m \u001b[0mrk\u001b[0m \u001b[0;32mis\u001b[0m \u001b[0;32mnot\u001b[0m \u001b[0;32mNone\u001b[0m\u001b[0;34m:\u001b[0m\u001b[0;34m\u001b[0m\u001b[0;34m\u001b[0m\u001b[0m\n\u001b[0;32m-> 1162\u001b[0;31m                             \u001b[0mright_keys\u001b[0m\u001b[0;34m.\u001b[0m\u001b[0mappend\u001b[0m\u001b[0;34m(\u001b[0m\u001b[0mright\u001b[0m\u001b[0;34m.\u001b[0m\u001b[0m_get_label_or_level_values\u001b[0m\u001b[0;34m(\u001b[0m\u001b[0mrk\u001b[0m\u001b[0;34m)\u001b[0m\u001b[0;34m)\u001b[0m\u001b[0;34m\u001b[0m\u001b[0;34m\u001b[0m\u001b[0m\n\u001b[0m\u001b[1;32m   1163\u001b[0m                         \u001b[0;32melse\u001b[0m\u001b[0;34m:\u001b[0m\u001b[0;34m\u001b[0m\u001b[0;34m\u001b[0m\u001b[0m\n\u001b[1;32m   1164\u001b[0m                             \u001b[0;31m# work-around for merge_asof(right_index=True)\u001b[0m\u001b[0;34m\u001b[0m\u001b[0;34m\u001b[0m\u001b[0m\n",
            "\u001b[0;32m/usr/local/lib/python3.10/dist-packages/pandas/core/generic.py\u001b[0m in \u001b[0;36m_get_label_or_level_values\u001b[0;34m(self, key, axis)\u001b[0m\n\u001b[1;32m   1848\u001b[0m             )\n\u001b[1;32m   1849\u001b[0m         \u001b[0;32melse\u001b[0m\u001b[0;34m:\u001b[0m\u001b[0;34m\u001b[0m\u001b[0;34m\u001b[0m\u001b[0m\n\u001b[0;32m-> 1850\u001b[0;31m             \u001b[0;32mraise\u001b[0m \u001b[0mKeyError\u001b[0m\u001b[0;34m(\u001b[0m\u001b[0mkey\u001b[0m\u001b[0;34m)\u001b[0m\u001b[0;34m\u001b[0m\u001b[0;34m\u001b[0m\u001b[0m\n\u001b[0m\u001b[1;32m   1851\u001b[0m \u001b[0;34m\u001b[0m\u001b[0m\n\u001b[1;32m   1852\u001b[0m         \u001b[0;31m# Check for duplicates\u001b[0m\u001b[0;34m\u001b[0m\u001b[0;34m\u001b[0m\u001b[0m\n",
            "\u001b[0;31mKeyError\u001b[0m: 'authors'"
          ]
        }
      ]
    },
    {
      "cell_type": "markdown",
      "source": [
        "# AUTHOR WITH MOST WEEKS\n",
        "\n",
        "(group by Author, ordered rank of sum total weeks)\n",
        "\n",
        "https://data36.com/pandas-tutorial-2-aggregation-and-grouping/ \n",
        "\n",
        "https://sparkbyexamples.com/pandas/pandas-groupby-sum-examples/#:~:text=Pandas%20groupby()%20%26%20sum(),groupby(%5B'Courses'%5D). \n",
        "\n",
        "https://stackoverflow.com/questions/39922986/how-do-i-pandas-group-by-to-get-sum \n",
        "\n",
        "(cool graph opportunity where you stack the bars by legnth on a timeline)"
      ],
      "metadata": {
        "id": "aFoffry3kak-"
      }
    },
    {
      "cell_type": "code",
      "source": [
        "titles_df.total_weeks.sum()"
      ],
      "metadata": {
        "colab": {
          "base_uri": "https://localhost:8080/"
        },
        "id": "wpHBy2Gz0iKm",
        "outputId": "de1235ae-a7e7-467d-938b-d35654a5c7ae"
      },
      "execution_count": 72,
      "outputs": [
        {
          "output_type": "execute_result",
          "data": {
            "text/plain": [
              "60386"
            ]
          },
          "metadata": {},
          "execution_count": 72
        }
      ]
    },
    {
      "cell_type": "code",
      "source": [
        "most_weeks = titles_df.groupby('author').sum()[['total_weeks']]"
      ],
      "metadata": {
        "colab": {
          "base_uri": "https://localhost:8080/"
        },
        "id": "FOobbiX51Khl",
        "outputId": "de1e7cda-881f-4498-e615-642418ebfaa9"
      },
      "execution_count": 73,
      "outputs": [
        {
          "output_type": "stream",
          "name": "stderr",
          "text": [
            "<ipython-input-73-ced68516ea8b>:1: FutureWarning: The default value of numeric_only in DataFrameGroupBy.sum is deprecated. In a future version, numeric_only will default to False. Either specify numeric_only or select only columns which should be valid for the function.\n",
            "  most_weeks = titles_df.groupby('author').sum()[['total_weeks']]\n"
          ]
        }
      ]
    },
    {
      "cell_type": "code",
      "source": [
        "sorted_most_weeks=most_weeks.sort_values('total_weeks', ascending=False)\n",
        "print(sorted_most_weeks)"
      ],
      "metadata": {
        "colab": {
          "base_uri": "https://localhost:8080/"
        },
        "id": "MZB-FVpN1_nM",
        "outputId": "6a1e1e56-aaf0-4022-c7eb-c29ee3e7c8f9"
      },
      "execution_count": 74,
      "outputs": [
        {
          "output_type": "stream",
          "name": "stdout",
          "text": [
            "                                                 total_weeks\n",
            "author                                                      \n",
            "Danielle Steel                                           957\n",
            "Stephen King                                             892\n",
            "John Grisham                                             789\n",
            "Taylor Caldwell                                          524\n",
            "James A. Michener                                        477\n",
            "...                                                      ...\n",
            "Lana Del Rey                                               1\n",
            "Lara Adrian                                                1\n",
            "Lars Kepler                                                1\n",
            "Lauren Graham                                              1\n",
            "written and illustrated by Mattie J.T. Stepanek            1\n",
            "\n",
            "[2210 rows x 1 columns]\n"
          ]
        }
      ]
    },
    {
      "cell_type": "code",
      "source": [
        "most_weeks_df = most_weeks.reset_index()"
      ],
      "metadata": {
        "id": "MeB-rS29GoWU"
      },
      "execution_count": 75,
      "outputs": []
    },
    {
      "cell_type": "code",
      "source": [
        "most_weeks_df.head()"
      ],
      "metadata": {
        "colab": {
          "base_uri": "https://localhost:8080/",
          "height": 0
        },
        "id": "cWnb2sw7GvvU",
        "outputId": "61f7132f-ad80-4fa3-e134-1495fa203839"
      },
      "execution_count": 76,
      "outputs": [
        {
          "output_type": "execute_result",
          "data": {
            "text/plain": [
              "                       author  total_weeks\n",
              "0               Martha Grimes            1\n",
              "1   Elizabeth Forsythe Hailey            1\n",
              "2           James A. Michener            1\n",
              "3     Maxence van der Meersch            2\n",
              "4           ! by Fannie Flagg           11"
            ],
            "text/html": [
              "\n",
              "  <div id=\"df-5d80b16e-f9a4-41ca-b60c-0420642be47d\">\n",
              "    <div class=\"colab-df-container\">\n",
              "      <div>\n",
              "<style scoped>\n",
              "    .dataframe tbody tr th:only-of-type {\n",
              "        vertical-align: middle;\n",
              "    }\n",
              "\n",
              "    .dataframe tbody tr th {\n",
              "        vertical-align: top;\n",
              "    }\n",
              "\n",
              "    .dataframe thead th {\n",
              "        text-align: right;\n",
              "    }\n",
              "</style>\n",
              "<table border=\"1\" class=\"dataframe\">\n",
              "  <thead>\n",
              "    <tr style=\"text-align: right;\">\n",
              "      <th></th>\n",
              "      <th>author</th>\n",
              "      <th>total_weeks</th>\n",
              "    </tr>\n",
              "  </thead>\n",
              "  <tbody>\n",
              "    <tr>\n",
              "      <th>0</th>\n",
              "      <td>Martha Grimes</td>\n",
              "      <td>1</td>\n",
              "    </tr>\n",
              "    <tr>\n",
              "      <th>1</th>\n",
              "      <td>Elizabeth Forsythe Hailey</td>\n",
              "      <td>1</td>\n",
              "    </tr>\n",
              "    <tr>\n",
              "      <th>2</th>\n",
              "      <td>James A. Michener</td>\n",
              "      <td>1</td>\n",
              "    </tr>\n",
              "    <tr>\n",
              "      <th>3</th>\n",
              "      <td>Maxence van der Meersch</td>\n",
              "      <td>2</td>\n",
              "    </tr>\n",
              "    <tr>\n",
              "      <th>4</th>\n",
              "      <td>! by Fannie Flagg</td>\n",
              "      <td>11</td>\n",
              "    </tr>\n",
              "  </tbody>\n",
              "</table>\n",
              "</div>\n",
              "      <button class=\"colab-df-convert\" onclick=\"convertToInteractive('df-5d80b16e-f9a4-41ca-b60c-0420642be47d')\"\n",
              "              title=\"Convert this dataframe to an interactive table.\"\n",
              "              style=\"display:none;\">\n",
              "        \n",
              "  <svg xmlns=\"http://www.w3.org/2000/svg\" height=\"24px\"viewBox=\"0 0 24 24\"\n",
              "       width=\"24px\">\n",
              "    <path d=\"M0 0h24v24H0V0z\" fill=\"none\"/>\n",
              "    <path d=\"M18.56 5.44l.94 2.06.94-2.06 2.06-.94-2.06-.94-.94-2.06-.94 2.06-2.06.94zm-11 1L8.5 8.5l.94-2.06 2.06-.94-2.06-.94L8.5 2.5l-.94 2.06-2.06.94zm10 10l.94 2.06.94-2.06 2.06-.94-2.06-.94-.94-2.06-.94 2.06-2.06.94z\"/><path d=\"M17.41 7.96l-1.37-1.37c-.4-.4-.92-.59-1.43-.59-.52 0-1.04.2-1.43.59L10.3 9.45l-7.72 7.72c-.78.78-.78 2.05 0 2.83L4 21.41c.39.39.9.59 1.41.59.51 0 1.02-.2 1.41-.59l7.78-7.78 2.81-2.81c.8-.78.8-2.07 0-2.86zM5.41 20L4 18.59l7.72-7.72 1.47 1.35L5.41 20z\"/>\n",
              "  </svg>\n",
              "      </button>\n",
              "      \n",
              "  <style>\n",
              "    .colab-df-container {\n",
              "      display:flex;\n",
              "      flex-wrap:wrap;\n",
              "      gap: 12px;\n",
              "    }\n",
              "\n",
              "    .colab-df-convert {\n",
              "      background-color: #E8F0FE;\n",
              "      border: none;\n",
              "      border-radius: 50%;\n",
              "      cursor: pointer;\n",
              "      display: none;\n",
              "      fill: #1967D2;\n",
              "      height: 32px;\n",
              "      padding: 0 0 0 0;\n",
              "      width: 32px;\n",
              "    }\n",
              "\n",
              "    .colab-df-convert:hover {\n",
              "      background-color: #E2EBFA;\n",
              "      box-shadow: 0px 1px 2px rgba(60, 64, 67, 0.3), 0px 1px 3px 1px rgba(60, 64, 67, 0.15);\n",
              "      fill: #174EA6;\n",
              "    }\n",
              "\n",
              "    [theme=dark] .colab-df-convert {\n",
              "      background-color: #3B4455;\n",
              "      fill: #D2E3FC;\n",
              "    }\n",
              "\n",
              "    [theme=dark] .colab-df-convert:hover {\n",
              "      background-color: #434B5C;\n",
              "      box-shadow: 0px 1px 3px 1px rgba(0, 0, 0, 0.15);\n",
              "      filter: drop-shadow(0px 1px 2px rgba(0, 0, 0, 0.3));\n",
              "      fill: #FFFFFF;\n",
              "    }\n",
              "  </style>\n",
              "\n",
              "      <script>\n",
              "        const buttonEl =\n",
              "          document.querySelector('#df-5d80b16e-f9a4-41ca-b60c-0420642be47d button.colab-df-convert');\n",
              "        buttonEl.style.display =\n",
              "          google.colab.kernel.accessAllowed ? 'block' : 'none';\n",
              "\n",
              "        async function convertToInteractive(key) {\n",
              "          const element = document.querySelector('#df-5d80b16e-f9a4-41ca-b60c-0420642be47d');\n",
              "          const dataTable =\n",
              "            await google.colab.kernel.invokeFunction('convertToInteractive',\n",
              "                                                     [key], {});\n",
              "          if (!dataTable) return;\n",
              "\n",
              "          const docLinkHtml = 'Like what you see? Visit the ' +\n",
              "            '<a target=\"_blank\" href=https://colab.research.google.com/notebooks/data_table.ipynb>data table notebook</a>'\n",
              "            + ' to learn more about interactive tables.';\n",
              "          element.innerHTML = '';\n",
              "          dataTable['output_type'] = 'display_data';\n",
              "          await google.colab.output.renderOutput(dataTable, element);\n",
              "          const docLink = document.createElement('div');\n",
              "          docLink.innerHTML = docLinkHtml;\n",
              "          element.appendChild(docLink);\n",
              "        }\n",
              "      </script>\n",
              "    </div>\n",
              "  </div>\n",
              "  "
            ]
          },
          "metadata": {},
          "execution_count": 76
        }
      ]
    },
    {
      "cell_type": "code",
      "source": [
        "most_weeks_df.sort_values(by='total_weeks', ascending=False)"
      ],
      "metadata": {
        "colab": {
          "base_uri": "https://localhost:8080/",
          "height": 0
        },
        "id": "d9tJeVADG-bX",
        "outputId": "64a21e97-6a1c-4272-a3fb-2a0e9cc101a5"
      },
      "execution_count": 77,
      "outputs": [
        {
          "output_type": "execute_result",
          "data": {
            "text/plain": [
              "                                               author  total_weeks\n",
              "382                                    Danielle Steel          957\n",
              "1932                                     Stephen King          892\n",
              "1080                                     John Grisham          789\n",
              "1997                                  Taylor Caldwell          524\n",
              "894                                 James A. Michener          477\n",
              "...                                               ...          ...\n",
              "1260                                     Lana Del Rey            1\n",
              "1261                                      Lara Adrian            1\n",
              "1269                                      Lars Kepler            1\n",
              "1276                                    Lauren Graham            1\n",
              "2209  written and illustrated by Mattie J.T. Stepanek            1\n",
              "\n",
              "[2210 rows x 2 columns]"
            ],
            "text/html": [
              "\n",
              "  <div id=\"df-be0715a3-0086-43a2-bcf1-8c92cfd42061\">\n",
              "    <div class=\"colab-df-container\">\n",
              "      <div>\n",
              "<style scoped>\n",
              "    .dataframe tbody tr th:only-of-type {\n",
              "        vertical-align: middle;\n",
              "    }\n",
              "\n",
              "    .dataframe tbody tr th {\n",
              "        vertical-align: top;\n",
              "    }\n",
              "\n",
              "    .dataframe thead th {\n",
              "        text-align: right;\n",
              "    }\n",
              "</style>\n",
              "<table border=\"1\" class=\"dataframe\">\n",
              "  <thead>\n",
              "    <tr style=\"text-align: right;\">\n",
              "      <th></th>\n",
              "      <th>author</th>\n",
              "      <th>total_weeks</th>\n",
              "    </tr>\n",
              "  </thead>\n",
              "  <tbody>\n",
              "    <tr>\n",
              "      <th>382</th>\n",
              "      <td>Danielle Steel</td>\n",
              "      <td>957</td>\n",
              "    </tr>\n",
              "    <tr>\n",
              "      <th>1932</th>\n",
              "      <td>Stephen King</td>\n",
              "      <td>892</td>\n",
              "    </tr>\n",
              "    <tr>\n",
              "      <th>1080</th>\n",
              "      <td>John Grisham</td>\n",
              "      <td>789</td>\n",
              "    </tr>\n",
              "    <tr>\n",
              "      <th>1997</th>\n",
              "      <td>Taylor Caldwell</td>\n",
              "      <td>524</td>\n",
              "    </tr>\n",
              "    <tr>\n",
              "      <th>894</th>\n",
              "      <td>James A. Michener</td>\n",
              "      <td>477</td>\n",
              "    </tr>\n",
              "    <tr>\n",
              "      <th>...</th>\n",
              "      <td>...</td>\n",
              "      <td>...</td>\n",
              "    </tr>\n",
              "    <tr>\n",
              "      <th>1260</th>\n",
              "      <td>Lana Del Rey</td>\n",
              "      <td>1</td>\n",
              "    </tr>\n",
              "    <tr>\n",
              "      <th>1261</th>\n",
              "      <td>Lara Adrian</td>\n",
              "      <td>1</td>\n",
              "    </tr>\n",
              "    <tr>\n",
              "      <th>1269</th>\n",
              "      <td>Lars Kepler</td>\n",
              "      <td>1</td>\n",
              "    </tr>\n",
              "    <tr>\n",
              "      <th>1276</th>\n",
              "      <td>Lauren Graham</td>\n",
              "      <td>1</td>\n",
              "    </tr>\n",
              "    <tr>\n",
              "      <th>2209</th>\n",
              "      <td>written and illustrated by Mattie J.T. Stepanek</td>\n",
              "      <td>1</td>\n",
              "    </tr>\n",
              "  </tbody>\n",
              "</table>\n",
              "<p>2210 rows × 2 columns</p>\n",
              "</div>\n",
              "      <button class=\"colab-df-convert\" onclick=\"convertToInteractive('df-be0715a3-0086-43a2-bcf1-8c92cfd42061')\"\n",
              "              title=\"Convert this dataframe to an interactive table.\"\n",
              "              style=\"display:none;\">\n",
              "        \n",
              "  <svg xmlns=\"http://www.w3.org/2000/svg\" height=\"24px\"viewBox=\"0 0 24 24\"\n",
              "       width=\"24px\">\n",
              "    <path d=\"M0 0h24v24H0V0z\" fill=\"none\"/>\n",
              "    <path d=\"M18.56 5.44l.94 2.06.94-2.06 2.06-.94-2.06-.94-.94-2.06-.94 2.06-2.06.94zm-11 1L8.5 8.5l.94-2.06 2.06-.94-2.06-.94L8.5 2.5l-.94 2.06-2.06.94zm10 10l.94 2.06.94-2.06 2.06-.94-2.06-.94-.94-2.06-.94 2.06-2.06.94z\"/><path d=\"M17.41 7.96l-1.37-1.37c-.4-.4-.92-.59-1.43-.59-.52 0-1.04.2-1.43.59L10.3 9.45l-7.72 7.72c-.78.78-.78 2.05 0 2.83L4 21.41c.39.39.9.59 1.41.59.51 0 1.02-.2 1.41-.59l7.78-7.78 2.81-2.81c.8-.78.8-2.07 0-2.86zM5.41 20L4 18.59l7.72-7.72 1.47 1.35L5.41 20z\"/>\n",
              "  </svg>\n",
              "      </button>\n",
              "      \n",
              "  <style>\n",
              "    .colab-df-container {\n",
              "      display:flex;\n",
              "      flex-wrap:wrap;\n",
              "      gap: 12px;\n",
              "    }\n",
              "\n",
              "    .colab-df-convert {\n",
              "      background-color: #E8F0FE;\n",
              "      border: none;\n",
              "      border-radius: 50%;\n",
              "      cursor: pointer;\n",
              "      display: none;\n",
              "      fill: #1967D2;\n",
              "      height: 32px;\n",
              "      padding: 0 0 0 0;\n",
              "      width: 32px;\n",
              "    }\n",
              "\n",
              "    .colab-df-convert:hover {\n",
              "      background-color: #E2EBFA;\n",
              "      box-shadow: 0px 1px 2px rgba(60, 64, 67, 0.3), 0px 1px 3px 1px rgba(60, 64, 67, 0.15);\n",
              "      fill: #174EA6;\n",
              "    }\n",
              "\n",
              "    [theme=dark] .colab-df-convert {\n",
              "      background-color: #3B4455;\n",
              "      fill: #D2E3FC;\n",
              "    }\n",
              "\n",
              "    [theme=dark] .colab-df-convert:hover {\n",
              "      background-color: #434B5C;\n",
              "      box-shadow: 0px 1px 3px 1px rgba(0, 0, 0, 0.15);\n",
              "      filter: drop-shadow(0px 1px 2px rgba(0, 0, 0, 0.3));\n",
              "      fill: #FFFFFF;\n",
              "    }\n",
              "  </style>\n",
              "\n",
              "      <script>\n",
              "        const buttonEl =\n",
              "          document.querySelector('#df-be0715a3-0086-43a2-bcf1-8c92cfd42061 button.colab-df-convert');\n",
              "        buttonEl.style.display =\n",
              "          google.colab.kernel.accessAllowed ? 'block' : 'none';\n",
              "\n",
              "        async function convertToInteractive(key) {\n",
              "          const element = document.querySelector('#df-be0715a3-0086-43a2-bcf1-8c92cfd42061');\n",
              "          const dataTable =\n",
              "            await google.colab.kernel.invokeFunction('convertToInteractive',\n",
              "                                                     [key], {});\n",
              "          if (!dataTable) return;\n",
              "\n",
              "          const docLinkHtml = 'Like what you see? Visit the ' +\n",
              "            '<a target=\"_blank\" href=https://colab.research.google.com/notebooks/data_table.ipynb>data table notebook</a>'\n",
              "            + ' to learn more about interactive tables.';\n",
              "          element.innerHTML = '';\n",
              "          dataTable['output_type'] = 'display_data';\n",
              "          await google.colab.output.renderOutput(dataTable, element);\n",
              "          const docLink = document.createElement('div');\n",
              "          docLink.innerHTML = docLinkHtml;\n",
              "          element.appendChild(docLink);\n",
              "        }\n",
              "      </script>\n",
              "    </div>\n",
              "  </div>\n",
              "  "
            ]
          },
          "metadata": {},
          "execution_count": 77
        }
      ]
    },
    {
      "cell_type": "code",
      "source": [
        "most_weeks_df = most_weeks_df.rename(columns = {'author':'authors'})"
      ],
      "metadata": {
        "id": "3PVakcYYH7yu"
      },
      "execution_count": 78,
      "outputs": []
    },
    {
      "cell_type": "code",
      "source": [
        "most_weeks_df.head()"
      ],
      "metadata": {
        "colab": {
          "base_uri": "https://localhost:8080/",
          "height": 0
        },
        "id": "y3Wo32yCIBTh",
        "outputId": "ff1c686e-9f42-4e74-d138-bd8c3e59c560"
      },
      "execution_count": 79,
      "outputs": [
        {
          "output_type": "execute_result",
          "data": {
            "text/plain": [
              "                      authors  total_weeks\n",
              "0               Martha Grimes            1\n",
              "1   Elizabeth Forsythe Hailey            1\n",
              "2           James A. Michener            1\n",
              "3     Maxence van der Meersch            2\n",
              "4           ! by Fannie Flagg           11"
            ],
            "text/html": [
              "\n",
              "  <div id=\"df-22892c46-07e2-4354-8d0d-8817d6e2b22d\">\n",
              "    <div class=\"colab-df-container\">\n",
              "      <div>\n",
              "<style scoped>\n",
              "    .dataframe tbody tr th:only-of-type {\n",
              "        vertical-align: middle;\n",
              "    }\n",
              "\n",
              "    .dataframe tbody tr th {\n",
              "        vertical-align: top;\n",
              "    }\n",
              "\n",
              "    .dataframe thead th {\n",
              "        text-align: right;\n",
              "    }\n",
              "</style>\n",
              "<table border=\"1\" class=\"dataframe\">\n",
              "  <thead>\n",
              "    <tr style=\"text-align: right;\">\n",
              "      <th></th>\n",
              "      <th>authors</th>\n",
              "      <th>total_weeks</th>\n",
              "    </tr>\n",
              "  </thead>\n",
              "  <tbody>\n",
              "    <tr>\n",
              "      <th>0</th>\n",
              "      <td>Martha Grimes</td>\n",
              "      <td>1</td>\n",
              "    </tr>\n",
              "    <tr>\n",
              "      <th>1</th>\n",
              "      <td>Elizabeth Forsythe Hailey</td>\n",
              "      <td>1</td>\n",
              "    </tr>\n",
              "    <tr>\n",
              "      <th>2</th>\n",
              "      <td>James A. Michener</td>\n",
              "      <td>1</td>\n",
              "    </tr>\n",
              "    <tr>\n",
              "      <th>3</th>\n",
              "      <td>Maxence van der Meersch</td>\n",
              "      <td>2</td>\n",
              "    </tr>\n",
              "    <tr>\n",
              "      <th>4</th>\n",
              "      <td>! by Fannie Flagg</td>\n",
              "      <td>11</td>\n",
              "    </tr>\n",
              "  </tbody>\n",
              "</table>\n",
              "</div>\n",
              "      <button class=\"colab-df-convert\" onclick=\"convertToInteractive('df-22892c46-07e2-4354-8d0d-8817d6e2b22d')\"\n",
              "              title=\"Convert this dataframe to an interactive table.\"\n",
              "              style=\"display:none;\">\n",
              "        \n",
              "  <svg xmlns=\"http://www.w3.org/2000/svg\" height=\"24px\"viewBox=\"0 0 24 24\"\n",
              "       width=\"24px\">\n",
              "    <path d=\"M0 0h24v24H0V0z\" fill=\"none\"/>\n",
              "    <path d=\"M18.56 5.44l.94 2.06.94-2.06 2.06-.94-2.06-.94-.94-2.06-.94 2.06-2.06.94zm-11 1L8.5 8.5l.94-2.06 2.06-.94-2.06-.94L8.5 2.5l-.94 2.06-2.06.94zm10 10l.94 2.06.94-2.06 2.06-.94-2.06-.94-.94-2.06-.94 2.06-2.06.94z\"/><path d=\"M17.41 7.96l-1.37-1.37c-.4-.4-.92-.59-1.43-.59-.52 0-1.04.2-1.43.59L10.3 9.45l-7.72 7.72c-.78.78-.78 2.05 0 2.83L4 21.41c.39.39.9.59 1.41.59.51 0 1.02-.2 1.41-.59l7.78-7.78 2.81-2.81c.8-.78.8-2.07 0-2.86zM5.41 20L4 18.59l7.72-7.72 1.47 1.35L5.41 20z\"/>\n",
              "  </svg>\n",
              "      </button>\n",
              "      \n",
              "  <style>\n",
              "    .colab-df-container {\n",
              "      display:flex;\n",
              "      flex-wrap:wrap;\n",
              "      gap: 12px;\n",
              "    }\n",
              "\n",
              "    .colab-df-convert {\n",
              "      background-color: #E8F0FE;\n",
              "      border: none;\n",
              "      border-radius: 50%;\n",
              "      cursor: pointer;\n",
              "      display: none;\n",
              "      fill: #1967D2;\n",
              "      height: 32px;\n",
              "      padding: 0 0 0 0;\n",
              "      width: 32px;\n",
              "    }\n",
              "\n",
              "    .colab-df-convert:hover {\n",
              "      background-color: #E2EBFA;\n",
              "      box-shadow: 0px 1px 2px rgba(60, 64, 67, 0.3), 0px 1px 3px 1px rgba(60, 64, 67, 0.15);\n",
              "      fill: #174EA6;\n",
              "    }\n",
              "\n",
              "    [theme=dark] .colab-df-convert {\n",
              "      background-color: #3B4455;\n",
              "      fill: #D2E3FC;\n",
              "    }\n",
              "\n",
              "    [theme=dark] .colab-df-convert:hover {\n",
              "      background-color: #434B5C;\n",
              "      box-shadow: 0px 1px 3px 1px rgba(0, 0, 0, 0.15);\n",
              "      filter: drop-shadow(0px 1px 2px rgba(0, 0, 0, 0.3));\n",
              "      fill: #FFFFFF;\n",
              "    }\n",
              "  </style>\n",
              "\n",
              "      <script>\n",
              "        const buttonEl =\n",
              "          document.querySelector('#df-22892c46-07e2-4354-8d0d-8817d6e2b22d button.colab-df-convert');\n",
              "        buttonEl.style.display =\n",
              "          google.colab.kernel.accessAllowed ? 'block' : 'none';\n",
              "\n",
              "        async function convertToInteractive(key) {\n",
              "          const element = document.querySelector('#df-22892c46-07e2-4354-8d0d-8817d6e2b22d');\n",
              "          const dataTable =\n",
              "            await google.colab.kernel.invokeFunction('convertToInteractive',\n",
              "                                                     [key], {});\n",
              "          if (!dataTable) return;\n",
              "\n",
              "          const docLinkHtml = 'Like what you see? Visit the ' +\n",
              "            '<a target=\"_blank\" href=https://colab.research.google.com/notebooks/data_table.ipynb>data table notebook</a>'\n",
              "            + ' to learn more about interactive tables.';\n",
              "          element.innerHTML = '';\n",
              "          dataTable['output_type'] = 'display_data';\n",
              "          await google.colab.output.renderOutput(dataTable, element);\n",
              "          const docLink = document.createElement('div');\n",
              "          docLink.innerHTML = docLinkHtml;\n",
              "          element.appendChild(docLink);\n",
              "        }\n",
              "      </script>\n",
              "    </div>\n",
              "  </div>\n",
              "  "
            ]
          },
          "metadata": {},
          "execution_count": 79
        }
      ]
    },
    {
      "cell_type": "markdown",
      "source": [
        "# \"STAYING POWER\" AUTHOR WITH LONGEST AVG WEEKS PER TITLE"
      ],
      "metadata": {
        "id": "QmLFmtmVQXuA"
      }
    },
    {
      "cell_type": "markdown",
      "source": [
        "Take above 'most weeks', divided by number/count of books, to help get a sense of staying power for each author.\n",
        "\n",
        "The average for the titles list is 8.1"
      ],
      "metadata": {
        "id": "O6LzYcB_Qtxz"
      }
    },
    {
      "cell_type": "code",
      "source": [
        "titles_df['author'].value_counts()\n",
        "top_by_titles = titles_df['author'].value_counts()\n",
        "top_by_titles = pd.DataFrame(data=top_by_titles, columns=['author', 'number_of_titles'])\n",
        "top_by_titles.reset_index(inplace=True)\n",
        "top_by_titles = top_by_titles.rename(columns = {'index':'authors'})\n",
        "del top_by_titles['number_of_titles']\n",
        "top_by_titles = top_by_titles.rename(columns = {'author':'books_on_list'})\n",
        "print(top_by_titles)"
      ],
      "metadata": {
        "colab": {
          "base_uri": "https://localhost:8080/"
        },
        "id": "s9_jwqJqJCRS",
        "outputId": "6355ddd7-0f39-43dc-a262-69bce44a56cc"
      },
      "execution_count": 80,
      "outputs": [
        {
          "output_type": "stream",
          "name": "stdout",
          "text": [
            "                                    authors  books_on_list\n",
            "0                            Danielle Steel            116\n",
            "1                              Stuart Woods             63\n",
            "2                              Stephen King             54\n",
            "3                          Robert B. Parker             47\n",
            "4                             John Sandford             44\n",
            "...                                     ...            ...\n",
            "2205                            Joseph Fink              1\n",
            "2206                            A. S. Byatt              1\n",
            "2207  Raymond Chandler and Robert B. Parker              1\n",
            "2208                            Noel Coward              1\n",
            "2209                          Frank Tilsley              1\n",
            "\n",
            "[2210 rows x 2 columns]\n"
          ]
        }
      ]
    },
    {
      "cell_type": "code",
      "source": [
        "merged_df = pd.merge(most_weeks_df,top_by_titles,on='authors',how=\"outer\")"
      ],
      "metadata": {
        "id": "w_3TB4KXHXNt"
      },
      "execution_count": 81,
      "outputs": []
    },
    {
      "cell_type": "code",
      "source": [
        "merged_df.head()"
      ],
      "metadata": {
        "colab": {
          "base_uri": "https://localhost:8080/",
          "height": 0
        },
        "id": "tffBreC8IHQl",
        "outputId": "449c2e4a-e1f7-46cb-c590-094c236d77c6"
      },
      "execution_count": 82,
      "outputs": [
        {
          "output_type": "execute_result",
          "data": {
            "text/plain": [
              "                      authors  total_weeks  books_on_list\n",
              "0               Martha Grimes            1              1\n",
              "1   Elizabeth Forsythe Hailey            1              1\n",
              "2           James A. Michener            1              1\n",
              "3     Maxence van der Meersch            2              1\n",
              "4           ! by Fannie Flagg           11              1"
            ],
            "text/html": [
              "\n",
              "  <div id=\"df-2fba64d4-ccb7-4ad9-910e-6beefc17827b\">\n",
              "    <div class=\"colab-df-container\">\n",
              "      <div>\n",
              "<style scoped>\n",
              "    .dataframe tbody tr th:only-of-type {\n",
              "        vertical-align: middle;\n",
              "    }\n",
              "\n",
              "    .dataframe tbody tr th {\n",
              "        vertical-align: top;\n",
              "    }\n",
              "\n",
              "    .dataframe thead th {\n",
              "        text-align: right;\n",
              "    }\n",
              "</style>\n",
              "<table border=\"1\" class=\"dataframe\">\n",
              "  <thead>\n",
              "    <tr style=\"text-align: right;\">\n",
              "      <th></th>\n",
              "      <th>authors</th>\n",
              "      <th>total_weeks</th>\n",
              "      <th>books_on_list</th>\n",
              "    </tr>\n",
              "  </thead>\n",
              "  <tbody>\n",
              "    <tr>\n",
              "      <th>0</th>\n",
              "      <td>Martha Grimes</td>\n",
              "      <td>1</td>\n",
              "      <td>1</td>\n",
              "    </tr>\n",
              "    <tr>\n",
              "      <th>1</th>\n",
              "      <td>Elizabeth Forsythe Hailey</td>\n",
              "      <td>1</td>\n",
              "      <td>1</td>\n",
              "    </tr>\n",
              "    <tr>\n",
              "      <th>2</th>\n",
              "      <td>James A. Michener</td>\n",
              "      <td>1</td>\n",
              "      <td>1</td>\n",
              "    </tr>\n",
              "    <tr>\n",
              "      <th>3</th>\n",
              "      <td>Maxence van der Meersch</td>\n",
              "      <td>2</td>\n",
              "      <td>1</td>\n",
              "    </tr>\n",
              "    <tr>\n",
              "      <th>4</th>\n",
              "      <td>! by Fannie Flagg</td>\n",
              "      <td>11</td>\n",
              "      <td>1</td>\n",
              "    </tr>\n",
              "  </tbody>\n",
              "</table>\n",
              "</div>\n",
              "      <button class=\"colab-df-convert\" onclick=\"convertToInteractive('df-2fba64d4-ccb7-4ad9-910e-6beefc17827b')\"\n",
              "              title=\"Convert this dataframe to an interactive table.\"\n",
              "              style=\"display:none;\">\n",
              "        \n",
              "  <svg xmlns=\"http://www.w3.org/2000/svg\" height=\"24px\"viewBox=\"0 0 24 24\"\n",
              "       width=\"24px\">\n",
              "    <path d=\"M0 0h24v24H0V0z\" fill=\"none\"/>\n",
              "    <path d=\"M18.56 5.44l.94 2.06.94-2.06 2.06-.94-2.06-.94-.94-2.06-.94 2.06-2.06.94zm-11 1L8.5 8.5l.94-2.06 2.06-.94-2.06-.94L8.5 2.5l-.94 2.06-2.06.94zm10 10l.94 2.06.94-2.06 2.06-.94-2.06-.94-.94-2.06-.94 2.06-2.06.94z\"/><path d=\"M17.41 7.96l-1.37-1.37c-.4-.4-.92-.59-1.43-.59-.52 0-1.04.2-1.43.59L10.3 9.45l-7.72 7.72c-.78.78-.78 2.05 0 2.83L4 21.41c.39.39.9.59 1.41.59.51 0 1.02-.2 1.41-.59l7.78-7.78 2.81-2.81c.8-.78.8-2.07 0-2.86zM5.41 20L4 18.59l7.72-7.72 1.47 1.35L5.41 20z\"/>\n",
              "  </svg>\n",
              "      </button>\n",
              "      \n",
              "  <style>\n",
              "    .colab-df-container {\n",
              "      display:flex;\n",
              "      flex-wrap:wrap;\n",
              "      gap: 12px;\n",
              "    }\n",
              "\n",
              "    .colab-df-convert {\n",
              "      background-color: #E8F0FE;\n",
              "      border: none;\n",
              "      border-radius: 50%;\n",
              "      cursor: pointer;\n",
              "      display: none;\n",
              "      fill: #1967D2;\n",
              "      height: 32px;\n",
              "      padding: 0 0 0 0;\n",
              "      width: 32px;\n",
              "    }\n",
              "\n",
              "    .colab-df-convert:hover {\n",
              "      background-color: #E2EBFA;\n",
              "      box-shadow: 0px 1px 2px rgba(60, 64, 67, 0.3), 0px 1px 3px 1px rgba(60, 64, 67, 0.15);\n",
              "      fill: #174EA6;\n",
              "    }\n",
              "\n",
              "    [theme=dark] .colab-df-convert {\n",
              "      background-color: #3B4455;\n",
              "      fill: #D2E3FC;\n",
              "    }\n",
              "\n",
              "    [theme=dark] .colab-df-convert:hover {\n",
              "      background-color: #434B5C;\n",
              "      box-shadow: 0px 1px 3px 1px rgba(0, 0, 0, 0.15);\n",
              "      filter: drop-shadow(0px 1px 2px rgba(0, 0, 0, 0.3));\n",
              "      fill: #FFFFFF;\n",
              "    }\n",
              "  </style>\n",
              "\n",
              "      <script>\n",
              "        const buttonEl =\n",
              "          document.querySelector('#df-2fba64d4-ccb7-4ad9-910e-6beefc17827b button.colab-df-convert');\n",
              "        buttonEl.style.display =\n",
              "          google.colab.kernel.accessAllowed ? 'block' : 'none';\n",
              "\n",
              "        async function convertToInteractive(key) {\n",
              "          const element = document.querySelector('#df-2fba64d4-ccb7-4ad9-910e-6beefc17827b');\n",
              "          const dataTable =\n",
              "            await google.colab.kernel.invokeFunction('convertToInteractive',\n",
              "                                                     [key], {});\n",
              "          if (!dataTable) return;\n",
              "\n",
              "          const docLinkHtml = 'Like what you see? Visit the ' +\n",
              "            '<a target=\"_blank\" href=https://colab.research.google.com/notebooks/data_table.ipynb>data table notebook</a>'\n",
              "            + ' to learn more about interactive tables.';\n",
              "          element.innerHTML = '';\n",
              "          dataTable['output_type'] = 'display_data';\n",
              "          await google.colab.output.renderOutput(dataTable, element);\n",
              "          const docLink = document.createElement('div');\n",
              "          docLink.innerHTML = docLinkHtml;\n",
              "          element.appendChild(docLink);\n",
              "        }\n",
              "      </script>\n",
              "    </div>\n",
              "  </div>\n",
              "  "
            ]
          },
          "metadata": {},
          "execution_count": 82
        }
      ]
    },
    {
      "cell_type": "code",
      "source": [
        "merged_df['avg_weeks_on_list_per_book'] = merged_df['total_weeks'] / merged_df['books_on_list']"
      ],
      "metadata": {
        "id": "bLCwwOQ-Mckg"
      },
      "execution_count": 83,
      "outputs": []
    },
    {
      "cell_type": "code",
      "source": [
        "multiple_books_merged_df = merged_df[merged_df['books_on_list'] >3]"
      ],
      "metadata": {
        "id": "Tgiz3XMxN2Ww"
      },
      "execution_count": 84,
      "outputs": []
    },
    {
      "cell_type": "code",
      "source": [
        "multiple_books_merged_df = multiple_books_merged_df.sort_values(by='avg_weeks_on_list_per_book', ascending=False)\n",
        "multiple_books_merged_df.head(10)"
      ],
      "metadata": {
        "colab": {
          "base_uri": "https://localhost:8080/",
          "height": 0
        },
        "id": "EHpPwX5wNBa9",
        "outputId": "d2776616-dd1a-4ed4-df65-646aa1159539"
      },
      "execution_count": 85,
      "outputs": [
        {
          "output_type": "execute_result",
          "data": {
            "text/plain": [
              "                  authors  total_weeks  books_on_list  \\\n",
              "375             Dan Brown          287              5   \n",
              "865         J. K. Rowling          197              4   \n",
              "1736         Richard Bach          191              4   \n",
              "1632       Patrick Dennis          179              4   \n",
              "1789  Robert James Waller          221              5   \n",
              "809           Herman Wouk          375              9   \n",
              "889     Jacqueline Susann          158              4   \n",
              "96            Allen Drury          258              7   \n",
              "1298            Leon Uris          405             11   \n",
              "1334     Lloyd C. Douglas          233              7   \n",
              "\n",
              "      avg_weeks_on_list_per_book  \n",
              "375                    57.400000  \n",
              "865                    49.250000  \n",
              "1736                   47.750000  \n",
              "1632                   44.750000  \n",
              "1789                   44.200000  \n",
              "809                    41.666667  \n",
              "889                    39.500000  \n",
              "96                     36.857143  \n",
              "1298                   36.818182  \n",
              "1334                   33.285714  "
            ],
            "text/html": [
              "\n",
              "  <div id=\"df-bf0fb61c-f7b6-4260-8b4a-62f52249c074\">\n",
              "    <div class=\"colab-df-container\">\n",
              "      <div>\n",
              "<style scoped>\n",
              "    .dataframe tbody tr th:only-of-type {\n",
              "        vertical-align: middle;\n",
              "    }\n",
              "\n",
              "    .dataframe tbody tr th {\n",
              "        vertical-align: top;\n",
              "    }\n",
              "\n",
              "    .dataframe thead th {\n",
              "        text-align: right;\n",
              "    }\n",
              "</style>\n",
              "<table border=\"1\" class=\"dataframe\">\n",
              "  <thead>\n",
              "    <tr style=\"text-align: right;\">\n",
              "      <th></th>\n",
              "      <th>authors</th>\n",
              "      <th>total_weeks</th>\n",
              "      <th>books_on_list</th>\n",
              "      <th>avg_weeks_on_list_per_book</th>\n",
              "    </tr>\n",
              "  </thead>\n",
              "  <tbody>\n",
              "    <tr>\n",
              "      <th>375</th>\n",
              "      <td>Dan Brown</td>\n",
              "      <td>287</td>\n",
              "      <td>5</td>\n",
              "      <td>57.400000</td>\n",
              "    </tr>\n",
              "    <tr>\n",
              "      <th>865</th>\n",
              "      <td>J. K. Rowling</td>\n",
              "      <td>197</td>\n",
              "      <td>4</td>\n",
              "      <td>49.250000</td>\n",
              "    </tr>\n",
              "    <tr>\n",
              "      <th>1736</th>\n",
              "      <td>Richard Bach</td>\n",
              "      <td>191</td>\n",
              "      <td>4</td>\n",
              "      <td>47.750000</td>\n",
              "    </tr>\n",
              "    <tr>\n",
              "      <th>1632</th>\n",
              "      <td>Patrick Dennis</td>\n",
              "      <td>179</td>\n",
              "      <td>4</td>\n",
              "      <td>44.750000</td>\n",
              "    </tr>\n",
              "    <tr>\n",
              "      <th>1789</th>\n",
              "      <td>Robert James Waller</td>\n",
              "      <td>221</td>\n",
              "      <td>5</td>\n",
              "      <td>44.200000</td>\n",
              "    </tr>\n",
              "    <tr>\n",
              "      <th>809</th>\n",
              "      <td>Herman Wouk</td>\n",
              "      <td>375</td>\n",
              "      <td>9</td>\n",
              "      <td>41.666667</td>\n",
              "    </tr>\n",
              "    <tr>\n",
              "      <th>889</th>\n",
              "      <td>Jacqueline Susann</td>\n",
              "      <td>158</td>\n",
              "      <td>4</td>\n",
              "      <td>39.500000</td>\n",
              "    </tr>\n",
              "    <tr>\n",
              "      <th>96</th>\n",
              "      <td>Allen Drury</td>\n",
              "      <td>258</td>\n",
              "      <td>7</td>\n",
              "      <td>36.857143</td>\n",
              "    </tr>\n",
              "    <tr>\n",
              "      <th>1298</th>\n",
              "      <td>Leon Uris</td>\n",
              "      <td>405</td>\n",
              "      <td>11</td>\n",
              "      <td>36.818182</td>\n",
              "    </tr>\n",
              "    <tr>\n",
              "      <th>1334</th>\n",
              "      <td>Lloyd C. Douglas</td>\n",
              "      <td>233</td>\n",
              "      <td>7</td>\n",
              "      <td>33.285714</td>\n",
              "    </tr>\n",
              "  </tbody>\n",
              "</table>\n",
              "</div>\n",
              "      <button class=\"colab-df-convert\" onclick=\"convertToInteractive('df-bf0fb61c-f7b6-4260-8b4a-62f52249c074')\"\n",
              "              title=\"Convert this dataframe to an interactive table.\"\n",
              "              style=\"display:none;\">\n",
              "        \n",
              "  <svg xmlns=\"http://www.w3.org/2000/svg\" height=\"24px\"viewBox=\"0 0 24 24\"\n",
              "       width=\"24px\">\n",
              "    <path d=\"M0 0h24v24H0V0z\" fill=\"none\"/>\n",
              "    <path d=\"M18.56 5.44l.94 2.06.94-2.06 2.06-.94-2.06-.94-.94-2.06-.94 2.06-2.06.94zm-11 1L8.5 8.5l.94-2.06 2.06-.94-2.06-.94L8.5 2.5l-.94 2.06-2.06.94zm10 10l.94 2.06.94-2.06 2.06-.94-2.06-.94-.94-2.06-.94 2.06-2.06.94z\"/><path d=\"M17.41 7.96l-1.37-1.37c-.4-.4-.92-.59-1.43-.59-.52 0-1.04.2-1.43.59L10.3 9.45l-7.72 7.72c-.78.78-.78 2.05 0 2.83L4 21.41c.39.39.9.59 1.41.59.51 0 1.02-.2 1.41-.59l7.78-7.78 2.81-2.81c.8-.78.8-2.07 0-2.86zM5.41 20L4 18.59l7.72-7.72 1.47 1.35L5.41 20z\"/>\n",
              "  </svg>\n",
              "      </button>\n",
              "      \n",
              "  <style>\n",
              "    .colab-df-container {\n",
              "      display:flex;\n",
              "      flex-wrap:wrap;\n",
              "      gap: 12px;\n",
              "    }\n",
              "\n",
              "    .colab-df-convert {\n",
              "      background-color: #E8F0FE;\n",
              "      border: none;\n",
              "      border-radius: 50%;\n",
              "      cursor: pointer;\n",
              "      display: none;\n",
              "      fill: #1967D2;\n",
              "      height: 32px;\n",
              "      padding: 0 0 0 0;\n",
              "      width: 32px;\n",
              "    }\n",
              "\n",
              "    .colab-df-convert:hover {\n",
              "      background-color: #E2EBFA;\n",
              "      box-shadow: 0px 1px 2px rgba(60, 64, 67, 0.3), 0px 1px 3px 1px rgba(60, 64, 67, 0.15);\n",
              "      fill: #174EA6;\n",
              "    }\n",
              "\n",
              "    [theme=dark] .colab-df-convert {\n",
              "      background-color: #3B4455;\n",
              "      fill: #D2E3FC;\n",
              "    }\n",
              "\n",
              "    [theme=dark] .colab-df-convert:hover {\n",
              "      background-color: #434B5C;\n",
              "      box-shadow: 0px 1px 3px 1px rgba(0, 0, 0, 0.15);\n",
              "      filter: drop-shadow(0px 1px 2px rgba(0, 0, 0, 0.3));\n",
              "      fill: #FFFFFF;\n",
              "    }\n",
              "  </style>\n",
              "\n",
              "      <script>\n",
              "        const buttonEl =\n",
              "          document.querySelector('#df-bf0fb61c-f7b6-4260-8b4a-62f52249c074 button.colab-df-convert');\n",
              "        buttonEl.style.display =\n",
              "          google.colab.kernel.accessAllowed ? 'block' : 'none';\n",
              "\n",
              "        async function convertToInteractive(key) {\n",
              "          const element = document.querySelector('#df-bf0fb61c-f7b6-4260-8b4a-62f52249c074');\n",
              "          const dataTable =\n",
              "            await google.colab.kernel.invokeFunction('convertToInteractive',\n",
              "                                                     [key], {});\n",
              "          if (!dataTable) return;\n",
              "\n",
              "          const docLinkHtml = 'Like what you see? Visit the ' +\n",
              "            '<a target=\"_blank\" href=https://colab.research.google.com/notebooks/data_table.ipynb>data table notebook</a>'\n",
              "            + ' to learn more about interactive tables.';\n",
              "          element.innerHTML = '';\n",
              "          dataTable['output_type'] = 'display_data';\n",
              "          await google.colab.output.renderOutput(dataTable, element);\n",
              "          const docLink = document.createElement('div');\n",
              "          docLink.innerHTML = docLinkHtml;\n",
              "          element.appendChild(docLink);\n",
              "        }\n",
              "      </script>\n",
              "    </div>\n",
              "  </div>\n",
              "  "
            ]
          },
          "metadata": {},
          "execution_count": 85
        }
      ]
    },
    {
      "cell_type": "markdown",
      "source": [
        "certainly makes sense, we see some authors on here with extremely popular series (JK rowling, Dan brown) \n",
        "\n",
        "also see some that had big hits (robert james waller- bridges of madison county, 164 weeks, that might've had an outsized impact on his nubmers.\n",
        "\n",
        "check out richard bach, having best sellers in the 70s, 80s, 90s, and 00s"
      ],
      "metadata": {
        "id": "LKsN2anlPfo2"
      }
    },
    {
      "cell_type": "markdown",
      "source": [
        "https://en.wikipedia.org/wiki/Jacqueline_Susann"
      ],
      "metadata": {
        "id": "FmSMR0emPP_u"
      }
    },
    {
      "cell_type": "markdown",
      "source": [
        "Jacqueline Susann (August 20, 1918 – September 21, 1974) was an American novelist and actress. Her iconic novel, Valley of the Dolls (1966), is one of the best-selling books in publishing history.[2] With her two subsequent works, The Love Machine (1969) and Once Is Not Enough (1973), Susann became the first author to have three novels top The New York Times Best Seller List consecutively.[3]"
      ],
      "metadata": {
        "id": "gyADG6_1PSgu"
      }
    },
    {
      "cell_type": "code",
      "source": [],
      "metadata": {
        "id": "UG7r6rxbOjyE"
      },
      "execution_count": 85,
      "outputs": []
    },
    {
      "cell_type": "markdown",
      "source": [
        "# LIMITATIONS + FUTURE ANALYSIS"
      ],
      "metadata": {
        "id": "phDtbN7oRUCS"
      }
    },
    {
      "cell_type": "markdown",
      "source": [
        "The curatoiral satatment does a nice job of calling out the limiations of this dataset and how it should be interpreterd."
      ],
      "metadata": {
        "id": "dkTsiakob3Ji"
      }
    },
    {
      "cell_type": "markdown",
      "source": [
        "https://data.post45.org/new-york-times-hardcover-fiction-bestsellers-1931-2020-curatorial-statement/ "
      ],
      "metadata": {
        "id": "EMcA6to0Sqj4"
      }
    },
    {
      "cell_type": "markdown",
      "source": [
        "goodreads doesn't have an API, but would be fun to grab some of this data they have of top authors... \n",
        "\n",
        "https://www.goodreads.com/author/show/721.John_Grisham \n",
        "Average rating: 3.95 · 5,862,622 ratings · 218,783 reviews · 487 distinct works • Similar authors\n"
      ],
      "metadata": {
        "id": "W-YTME9WRes_"
      }
    },
    {
      "cell_type": "markdown",
      "source": [
        "It looks like google books has an API, which could offer page length / genre (helpful to get more specific if you're reccomending reads to someone0. Not something I'm familiar with but another cool opportunity for future analysis https://www.google.com/books/edition/The_Bridges_of_Madison_County/55gO5651MSAC?hl=en&gbpv=0\n",
        "\n",
        "https://developers.google.com/books/docs/v1/using"
      ],
      "metadata": {
        "id": "XO_O-2FcbBL8"
      }
    },
    {
      "cell_type": "markdown",
      "source": [
        "Really digging into the eras/decades of these authors to contextualize the timing of the lists and how it evovled over the years...."
      ],
      "metadata": {
        "id": "cJ3De3Sbblcr"
      }
    }
  ]
}